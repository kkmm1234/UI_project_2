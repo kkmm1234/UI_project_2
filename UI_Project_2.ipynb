{
 "cells": [
  {
   "cell_type": "code",
   "execution_count": null,
   "metadata": {
    "executionInfo": {
     "elapsed": 3895,
     "status": "ok",
     "timestamp": 1746903012381,
     "user": {
      "displayName": "Keith M",
      "userId": "12033836580644727059"
     },
     "user_tz": -60
    },
    "id": "5x4gtrdMFazU"
   },
   "outputs": [],
   "source": [
    "from google.colab import drive, files\n",
    "import tensorflow as tf\n",
    "import numpy as np\n",
    "import pandas as pd\n",
    "import matplotlib.pyplot as plt\n",
    "import os\n",
    "from tensorflow.keras import layers, models, regularizers\n",
    "from tensorflow.keras.preprocessing import image\n",
    "import time\n",
    "from tensorflow import keras\n",
    "\n",
    "student_id = 404488\n",
    "np.random.seed(student_id)\n",
    "tf.random.set_seed(student_id)"
   ]
  },
  {
   "cell_type": "code",
   "execution_count": null,
   "metadata": {
    "colab": {
     "base_uri": "https://localhost:8080/"
    },
    "executionInfo": {
     "elapsed": 57062,
     "status": "ok",
     "timestamp": 1746903070377,
     "user": {
      "displayName": "Keith M",
      "userId": "12033836580644727059"
     },
     "user_tz": -60
    },
    "id": "hKQbdmypIovr",
    "outputId": "ce12a965-2688-4880-b605-b3a1554961eb"
   },
   "outputs": [],
   "source": [
    "drive.flush_and_unmount\n",
    "drive.mount('/content/drive')\n",
    "!unzip -q '/content/drive/MyDrive/rock-paper-scissors.zip' -d '/content/drive/MyDrive/gesture_dataset'"
   ]
  },
  {
   "cell_type": "code",
   "execution_count": null,
   "metadata": {
    "executionInfo": {
     "elapsed": 29,
     "status": "ok",
     "timestamp": 1746903072733,
     "user": {
      "displayName": "Keith M",
      "userId": "12033836580644727059"
     },
     "user_tz": -60
    },
    "id": "eVfnszjJX_o8"
   },
   "outputs": [],
   "source": [
    "#load images from properly formated directories\n",
    "data_dir = '/content/drive/MyDrive/gesture_dataset'\n",
    "train_dir = os.path.join(data_dir, 'Rock-Paper-Scissors', 'train')\n",
    "test_dir = os.path.join(data_dir, 'Rock-Paper-Scissors', 'test')"
   ]
  },
  {
   "cell_type": "code",
   "execution_count": null,
   "metadata": {
    "colab": {
     "base_uri": "https://localhost:8080/"
    },
    "executionInfo": {
     "elapsed": 1299,
     "status": "ok",
     "timestamp": 1746903075739,
     "user": {
      "displayName": "Keith M",
      "userId": "12033836580644727059"
     },
     "user_tz": -60
    },
    "id": "TgvA3mXmb-Uj",
    "outputId": "3e239af2-fc95-4158-bf71-320f4cda12db"
   },
   "outputs": [],
   "source": [
    "img_height = 224\n",
    "img_width = 224\n",
    "batch_size = 32\n",
    "\n",
    "train_ds_full = tf.keras.utils.image_dataset_from_directory(\n",
    "    train_dir,\n",
    "    image_size=(img_height, img_width),\n",
    "    batch_size=None,\n",
    "    shuffle=False,\n",
    "    seed=student_id\n",
    ")\n",
    "\n",
    "test_ds_full = tf.keras.utils.image_dataset_from_directory(\n",
    "    test_dir,\n",
    "    image_size=(img_height, img_width),\n",
    "    batch_size=None,\n",
    "    shuffle=False,\n",
    "    seed=student_id\n",
    ")\n",
    "\n",
    "class_names = train_ds_full.class_names\n",
    "print(f\"Classes: {class_names}\")"
   ]
  },
  {
   "cell_type": "code",
   "execution_count": null,
   "metadata": {
    "executionInfo": {
     "elapsed": 1298,
     "status": "ok",
     "timestamp": 1746903079087,
     "user": {
      "displayName": "Keith M",
      "userId": "12033836580644727059"
     },
     "user_tz": -60
    },
    "id": "6giR9xJRcSUu"
   },
   "outputs": [],
   "source": [
    "#combine into 1 dataset\n",
    "all_images = train_ds_full.concatenate(test_ds_full)\n",
    "#shuffle images\n",
    "all_images = all_images.shuffle(buffer_size=1000, seed=student_id)"
   ]
  },
  {
   "cell_type": "code",
   "execution_count": null,
   "metadata": {
    "colab": {
     "base_uri": "https://localhost:8080/"
    },
    "executionInfo": {
     "elapsed": 162118,
     "status": "ok",
     "timestamp": 1746903242342,
     "user": {
      "displayName": "Keith M",
      "userId": "12033836580644727059"
     },
     "user_tz": -60
    },
    "id": "ztZmPg1mcue-",
    "outputId": "d753546d-cc69-4fd4-d3fb-dca88f8babf9"
   },
   "outputs": [],
   "source": [
    "#get total size\n",
    "total_size = len(list(all_images))\n",
    "print(f\"Total dataset size: {total_size}\")\n",
    "\n",
    "#get data set sizes\n",
    "train_size = int(0.7 * total_size)\n",
    "val_size = int(0.1 * total_size)\n",
    "test_size = total_size - train_size - val_size\n",
    "\n",
    "#create the splits\n",
    "train_ds = all_images.take(train_size).batch(batch_size)\n",
    "remaining = all_images.skip(train_size)\n",
    "val_ds = remaining.take(val_size).batch(batch_size)\n",
    "test_ds = remaining.skip(val_size).batch(batch_size)"
   ]
  },
  {
   "cell_type": "code",
   "execution_count": null,
   "metadata": {
    "colab": {
     "base_uri": "https://localhost:8080/"
    },
    "executionInfo": {
     "elapsed": 55,
     "status": "ok",
     "timestamp": 1746901042452,
     "user": {
      "displayName": "Keith M",
      "userId": "12033836580644727059"
     },
     "user_tz": -60
    },
    "id": "vcQN6xd5TysX",
    "outputId": "2d5de40f-9dae-413b-912b-db888405b5cd"
   },
   "outputs": [],
   "source": [
    "print(\"Data set sizes:\")\n",
    "print(f\"Training set: {tf.data.experimental.cardinality(train_ds)}\")\n",
    "print(f\"Validation set: {tf.data.experimental.cardinality(val_ds)}\")\n",
    "print(f\"Test set: {tf.data.experimental.cardinality(test_ds)}\")"
   ]
  },
  {
   "cell_type": "code",
   "execution_count": null,
   "metadata": {
    "colab": {
     "base_uri": "https://localhost:8080/",
     "height": 657
    },
    "executionInfo": {
     "elapsed": 10898,
     "status": "ok",
     "timestamp": 1746901053358,
     "user": {
      "displayName": "Keith M",
      "userId": "12033836580644727059"
     },
     "user_tz": -60
    },
    "id": "moerUWj8hWux",
    "outputId": "4e8e5328-2190-4d44-cebc-3232fafbc8e2"
   },
   "outputs": [],
   "source": [
    "#visualise sample images\n",
    "plt.figure(figsize=(12, 12))\n",
    "plt.suptitle(\"Sample Images from Rock-Paper-Scissors Dataset\")\n",
    "\n",
    "#get a batch of images from the training dataset\n",
    "for images, labels in train_ds.take(50):\n",
    "    for i in range(min(9, len(images))):\n",
    "        plt.subplot(3, 3, i + 1)\n",
    "        plt.imshow(images[i].numpy().astype(\"uint8\"))\n",
    "        plt.axis(\"off\")\n",
    "plt.tight_layout(rect=[0, 0, 1, 0.96])\n",
    "plt.show()"
   ]
  },
  {
   "cell_type": "code",
   "execution_count": null,
   "metadata": {
    "executionInfo": {
     "elapsed": 10970,
     "status": "ok",
     "timestamp": 1746901064449,
     "user": {
      "displayName": "Keith M",
      "userId": "12033836580644727059"
     },
     "user_tz": -60
    },
    "id": "LWQeDLusiqkJ"
   },
   "outputs": [],
   "source": [
    "#visualise class distribution\n",
    "def count_examples_per_class(dataset):\n",
    "    class_counts = [0] * len(class_names)\n",
    "    for _, labels in dataset:\n",
    "        for label in labels:\n",
    "            class_counts[label] += 1\n",
    "    return class_counts\n",
    "\n",
    "#calculate class distribution in each split\n",
    "train_counts = count_examples_per_class(train_ds)\n",
    "val_counts = count_examples_per_class(val_ds)\n",
    "test_counts = count_examples_per_class(test_ds)"
   ]
  },
  {
   "cell_type": "code",
   "execution_count": null,
   "metadata": {
    "colab": {
     "base_uri": "https://localhost:8080/",
     "height": 330
    },
    "executionInfo": {
     "elapsed": 163,
     "status": "ok",
     "timestamp": 1746901064614,
     "user": {
      "displayName": "Keith M",
      "userId": "12033836580644727059"
     },
     "user_tz": -60
    },
    "id": "QclGP-WujGDz",
    "outputId": "4bc2eed7-1f9f-4bdd-f6fe-b3fc79bd8669"
   },
   "outputs": [],
   "source": [
    "# Plot class distribution\n",
    "plt.figure(figsize=(12, 6))\n",
    "plt.suptitle(\"Class Distribution Across Datasets\")\n",
    "x = np.arange(len(class_names))\n",
    "width = 0.25\n",
    "\n",
    "plt.bar(x - width, train_counts, width, label='Training')\n",
    "plt.bar(x, val_counts, width, label='Validation')\n",
    "plt.bar(x + width, test_counts, width, label='Test')\n",
    "\n",
    "plt.xlabel('Class', fontsize=14)\n",
    "plt.ylabel('Number of Images', fontsize=14)\n",
    "plt.xticks(x, class_names, fontsize=12)\n",
    "plt.legend(fontsize=12)\n",
    "plt.grid(axis='y', linestyle='--', alpha=0.7)\n",
    "plt.tight_layout(rect=[0, 0, 1, 0.96])\n",
    "plt.show()"
   ]
  },
  {
   "cell_type": "code",
   "execution_count": null,
   "metadata": {
    "colab": {
     "base_uri": "https://localhost:8080/",
     "height": 226
    },
    "executionInfo": {
     "elapsed": 4674,
     "status": "ok",
     "timestamp": 1746901069289,
     "user": {
      "displayName": "Keith M",
      "userId": "12033836580644727059"
     },
     "user_tz": -60
    },
    "id": "qXB4UO3pkfNe",
    "outputId": "55fe7dd6-1271-4767-cc7a-f2e019db6c4e"
   },
   "outputs": [],
   "source": [
    "#visualise image characteristics\n",
    "plt.figure(figsize=(15, 5))\n",
    "plt.suptitle(\"RGB Channel Analysis of Sample Images\")\n",
    "\n",
    "for images, labels in train_ds.take(1):\n",
    "    for i in range(3):\n",
    "        img = images[i].numpy().astype(\"uint8\")\n",
    "        class_label = class_names[labels[i]]\n",
    "\n",
    "        plt.subplot(1, 3, i+1)\n",
    "\n",
    "        #plot RGB histograms\n",
    "        for j, color in enumerate(['red', 'green', 'blue']):\n",
    "            histogram = plt.hist(img[:,:,j].flatten(), bins=256, alpha=0.5, color=color, label=color)\n",
    "\n",
    "        plt.title(f\"{class_label}\")\n",
    "        plt.xlabel(\"Pixel Value\")\n",
    "        plt.ylabel(\"Frequency\")\n",
    "        if i == 0:\n",
    "            plt.legend()\n",
    "        plt.ylim(0, 1500)\n",
    "\n",
    "plt.tight_layout(rect=[0, 0, 1, 0.95])\n",
    "plt.show()"
   ]
  },
  {
   "cell_type": "markdown",
   "metadata": {
    "id": "WldYZyBL5ai5"
   },
   "source": [
    "# 3 initial models\n",
    "Here we test 3 models a baseline a deeper model and a wider model to see which generalises better"
   ]
  },
  {
   "cell_type": "markdown",
   "metadata": {
    "id": "3sgzfkvX5qr3"
   },
   "source": [
    "## Basline model"
   ]
  },
  {
   "cell_type": "code",
   "execution_count": null,
   "metadata": {
    "executionInfo": {
     "elapsed": 28,
     "status": "ok",
     "timestamp": 1746901069322,
     "user": {
      "displayName": "Keith M",
      "userId": "12033836580644727059"
     },
     "user_tz": -60
    },
    "id": "cI7e8cs7G4BX"
   },
   "outputs": [],
   "source": [
    "#create a callback for early stopping\n",
    "early_stopping = tf.keras.callbacks.EarlyStopping(\n",
    "    monitor='val_loss',\n",
    "    patience=10,\n",
    "    restore_best_weights=True\n",
    ")"
   ]
  },
  {
   "cell_type": "code",
   "execution_count": null,
   "metadata": {
    "colab": {
     "base_uri": "https://localhost:8080/",
     "height": 425
    },
    "executionInfo": {
     "elapsed": 660,
     "status": "ok",
     "timestamp": 1746901069987,
     "user": {
      "displayName": "Keith M",
      "userId": "12033836580644727059"
     },
     "user_tz": -60
    },
    "id": "00lmib6LnNnq",
    "outputId": "b1526190-1599-4b80-aaf0-e75fea3601d4"
   },
   "outputs": [],
   "source": [
    "#create a simple baseline CNN\n",
    "baseline_model = models.Sequential([\n",
    "    #first convolutional block\n",
    "    layers.Conv2D(32, (3, 3), activation='relu', padding='same', input_shape=(224, 224, 3)),\n",
    "    layers.MaxPooling2D((2, 2)),\n",
    "\n",
    "    #second convolutional block\n",
    "    layers.Conv2D(64, (3, 3), activation='relu', padding='same'),\n",
    "    layers.MaxPooling2D((2, 2)),\n",
    "\n",
    "    #flatten and dense layers\n",
    "    layers.Flatten(),\n",
    "    layers.Dense(128, activation='relu'),\n",
    "    layers.Dense(3, activation='softmax')  # 3 classes: rock, paper, scissors\n",
    "])\n",
    "\n",
    "#compile the model\n",
    "baseline_model.compile(\n",
    "    optimizer='adam',\n",
    "    loss='sparse_categorical_crossentropy',\n",
    "    metrics=['accuracy']\n",
    ")\n",
    "\n",
    "#print model summary\n",
    "print(\"Baseline CNN Architecture:\")\n",
    "baseline_model.summary()"
   ]
  },
  {
   "cell_type": "code",
   "execution_count": null,
   "metadata": {
    "colab": {
     "base_uri": "https://localhost:8080/"
    },
    "executionInfo": {
     "elapsed": 138361,
     "status": "ok",
     "timestamp": 1746901208350,
     "user": {
      "displayName": "Keith M",
      "userId": "12033836580644727059"
     },
     "user_tz": -60
    },
    "id": "oZtNViEhoJkd",
    "outputId": "0e548915-e0e4-424a-a5b2-02fa22a65f88"
   },
   "outputs": [],
   "source": [
    "#train the baseline model\n",
    "print(\"\\nTraining the baseline model...\")\n",
    "start_time = time.time()\n",
    "\n",
    "baseline_history = baseline_model.fit(\n",
    "    train_ds,\n",
    "    validation_data=val_ds,\n",
    "    epochs=15,\n",
    "    callbacks=[early_stopping]\n",
    ")\n",
    "\n",
    "baseline_training_time = time.time() - start_time\n",
    "print(f\"\\nBaseline model training time: {baseline_training_time:.2f} seconds\")\n",
    "\n",
    "#evaluate on validation set\n",
    "baseline_val_loss, baseline_val_acc = baseline_model.evaluate(val_ds)\n",
    "print(f\"Baseline model validation accuracy: {baseline_val_acc:.4f}\")"
   ]
  },
  {
   "cell_type": "markdown",
   "metadata": {
    "id": "0SvGxglr5ubX"
   },
   "source": [
    "## Deeper Model"
   ]
  },
  {
   "cell_type": "code",
   "execution_count": null,
   "metadata": {
    "colab": {
     "base_uri": "https://localhost:8080/",
     "height": 706
    },
    "executionInfo": {
     "elapsed": 141,
     "status": "ok",
     "timestamp": 1746901208496,
     "user": {
      "displayName": "Keith M",
      "userId": "12033836580644727059"
     },
     "user_tz": -60
    },
    "id": "p84C6gqZtZpj",
    "outputId": "7dc85e18-d611-420b-fb39-b9d057dbe41b"
   },
   "outputs": [],
   "source": [
    "#create a deeper CNN model\n",
    "deeper_model = models.Sequential([\n",
    "    #first convolutional block\n",
    "    layers.Conv2D(32, (3, 3), activation='relu', padding='same', input_shape=(224, 224, 3)),\n",
    "    layers.BatchNormalization(),\n",
    "    layers.Conv2D(32, (3, 3), activation='relu', padding='same'),\n",
    "    layers.MaxPooling2D((2, 2)),\n",
    "\n",
    "    #second convolutional block\n",
    "    layers.Conv2D(64, (3, 3), activation='relu', padding='same'),\n",
    "    layers.BatchNormalization(),\n",
    "    layers.Conv2D(64, (3, 3), activation='relu', padding='same'),\n",
    "    layers.MaxPooling2D((2, 2)),\n",
    "\n",
    "    #third convolutional block\n",
    "    layers.Conv2D(128, (3, 3), activation='relu', padding='same'),\n",
    "    layers.BatchNormalization(),\n",
    "    layers.Conv2D(128, (3, 3), activation='relu', padding='same'),\n",
    "    layers.MaxPooling2D((2, 2)),\n",
    "\n",
    "    #flatten and dense layers\n",
    "    layers.Flatten(),\n",
    "    layers.Dense(256, activation='relu'),\n",
    "    layers.Dropout(0.5),\n",
    "    layers.Dense(3, activation='softmax')\n",
    "])\n",
    "\n",
    "#compile the model\n",
    "deeper_model.compile(\n",
    "    optimizer='adam',\n",
    "    loss='sparse_categorical_crossentropy',\n",
    "    metrics=['accuracy']\n",
    ")\n",
    "\n",
    "#print model summary\n",
    "print(\"Deeper CNN Architecture:\")\n",
    "deeper_model.summary()"
   ]
  },
  {
   "cell_type": "code",
   "execution_count": null,
   "metadata": {
    "colab": {
     "base_uri": "https://localhost:8080/"
    },
    "executionInfo": {
     "elapsed": 239310,
     "status": "ok",
     "timestamp": 1746901447819,
     "user": {
      "displayName": "Keith M",
      "userId": "12033836580644727059"
     },
     "user_tz": -60
    },
    "id": "NM1ua6BytcQc",
    "outputId": "cf1e7acb-8110-484c-96d2-57cf2b201491"
   },
   "outputs": [],
   "source": [
    "#train the deeper model\n",
    "print(\"\\nTraining the deeper model...\")\n",
    "start_time = time.time()\n",
    "\n",
    "deeper_history = deeper_model.fit(\n",
    "    train_ds,\n",
    "    validation_data=val_ds,\n",
    "    epochs=15,\n",
    "    callbacks=[early_stopping]\n",
    ")\n",
    "\n",
    "deeper_training_time = time.time() - start_time\n",
    "print(f\"\\nDeeper model training time: {deeper_training_time:.2f} seconds\")\n",
    "\n",
    "#evaluate on validation set\n",
    "deeper_val_loss, deeper_val_acc = deeper_model.evaluate(val_ds)\n",
    "print(f\"Deeper model validation accuracy: {deeper_val_acc:.4f}\")"
   ]
  },
  {
   "cell_type": "markdown",
   "metadata": {
    "id": "-deh1mXv5xYn"
   },
   "source": [
    "## Wider model"
   ]
  },
  {
   "cell_type": "code",
   "execution_count": null,
   "metadata": {
    "colab": {
     "base_uri": "https://localhost:8080/",
     "height": 420
    },
    "executionInfo": {
     "elapsed": 54,
     "status": "ok",
     "timestamp": 1746901447874,
     "user": {
      "displayName": "Keith M",
      "userId": "12033836580644727059"
     },
     "user_tz": -60
    },
    "id": "OBAvzU9YuI2q",
    "outputId": "b17ccc68-ed09-4195-eda0-1214479e6398"
   },
   "outputs": [],
   "source": [
    "#create a wider CNN model\n",
    "wider_model = models.Sequential([\n",
    "    #first convolutional block with more filters\n",
    "    layers.Conv2D(64, (3, 3), activation='relu', padding='same', input_shape=(224, 224, 3)),\n",
    "    layers.MaxPooling2D((2, 2)),\n",
    "\n",
    "    #second convolutional block with more filters\n",
    "    layers.Conv2D(128, (3, 3), activation='relu', padding='same'),\n",
    "    layers.MaxPooling2D((2, 2)),\n",
    "\n",
    "    #flatten and wider dense layers\n",
    "    layers.Flatten(),\n",
    "    layers.Dense(512, activation='relu'),\n",
    "    layers.Dropout(0.5),\n",
    "    layers.Dense(3, activation='softmax')\n",
    "])\n",
    "\n",
    "#compile the model\n",
    "wider_model.compile(\n",
    "    optimizer='adam',\n",
    "    loss='sparse_categorical_crossentropy',\n",
    "    metrics=['accuracy']\n",
    ")\n",
    "\n",
    "#print model summary\n",
    "print(\"\\nWider CNN Architecture:\")\n",
    "wider_model.summary()"
   ]
  },
  {
   "cell_type": "code",
   "execution_count": null,
   "metadata": {
    "colab": {
     "base_uri": "https://localhost:8080/"
    },
    "executionInfo": {
     "elapsed": 224245,
     "status": "ok",
     "timestamp": 1746901672120,
     "user": {
      "displayName": "Keith M",
      "userId": "12033836580644727059"
     },
     "user_tz": -60
    },
    "id": "8RYhyPPauQvd",
    "outputId": "ded57b62-3585-4acd-9c13-cae149c0b13e"
   },
   "outputs": [],
   "source": [
    "#train the wider model\n",
    "print(\"\\nTraining the wider model...\")\n",
    "start_time = time.time()\n",
    "\n",
    "wider_history = wider_model.fit(\n",
    "    train_ds,\n",
    "    validation_data=val_ds,\n",
    "    epochs=15,\n",
    "    callbacks=[early_stopping]\n",
    ")\n",
    "\n",
    "wider_training_time = time.time() - start_time\n",
    "print(f\"\\nWider model training time: {wider_training_time:.2f} seconds\")\n",
    "\n",
    "#evaluate on validation set\n",
    "wider_val_loss, wider_val_acc = wider_model.evaluate(val_ds)\n",
    "print(f\"Wider model validation accuracy: {wider_val_acc:.4f}\")"
   ]
  },
  {
   "cell_type": "markdown",
   "metadata": {
    "id": "92pgkR4M53sE"
   },
   "source": [
    "## Results"
   ]
  },
  {
   "cell_type": "code",
   "execution_count": null,
   "metadata": {
    "colab": {
     "base_uri": "https://localhost:8080/",
     "height": 363
    },
    "executionInfo": {
     "elapsed": 221,
     "status": "ok",
     "timestamp": 1746901672354,
     "user": {
      "displayName": "Keith M",
      "userId": "12033836580644727059"
     },
     "user_tz": -60
    },
    "id": "xbDp-la_zZ3P",
    "outputId": "33ef4a50-7bf7-42ca-82c3-c07a5e8381bc"
   },
   "outputs": [],
   "source": [
    "#compare the three model architectures\n",
    "architecture_comparison = {\n",
    "    'Model': ['Baseline CNN', 'Deeper CNN', 'Wider CNN'],\n",
    "    'Validation Accuracy': [baseline_val_acc, deeper_val_acc, wider_val_acc],\n",
    "    'Training Time (s)': [baseline_training_time, deeper_training_time, wider_training_time]\n",
    "}\n",
    "\n",
    "#create a bar chart to compare accuracies\n",
    "plt.figure(figsize=(12, 5))\n",
    "plt.subplot(1, 2, 1)\n",
    "plt.bar(architecture_comparison['Model'], architecture_comparison['Validation Accuracy'])\n",
    "plt.title('Validation Accuracy by Architecture')\n",
    "plt.xlabel('Model Architecture')\n",
    "plt.ylabel('Validation Accuracy')\n",
    "plt.ylim(0, 1)\n",
    "\n",
    "#create a bar chart to compare training times\n",
    "plt.subplot(1, 2, 2)\n",
    "plt.bar(architecture_comparison['Model'], architecture_comparison['Training Time (s)'])\n",
    "plt.title('Training Time by Architecture')\n",
    "plt.xlabel('Model Architecture')\n",
    "plt.ylabel('Training Time (seconds)')\n",
    "\n",
    "plt.tight_layout()\n",
    "plt.show()\n",
    "\n",
    "#print the comparison as a formatted table\n",
    "print(\"\\nModel Architecture Comparison:\")\n",
    "for i in range(len(architecture_comparison['Model'])):\n",
    "    model = architecture_comparison['Model'][i]\n",
    "    acc = architecture_comparison['Validation Accuracy'][i]\n",
    "    time = architecture_comparison['Training Time (s)'][i]\n",
    "    print(f\"{model}: Accuracy = {acc:.4f}, Training Time = {time:.2f} seconds\")"
   ]
  },
  {
   "cell_type": "code",
   "execution_count": null,
   "metadata": {
    "colab": {
     "base_uri": "https://localhost:8080/"
    },
    "executionInfo": {
     "elapsed": 16204,
     "status": "ok",
     "timestamp": 1746901688560,
     "user": {
      "displayName": "Keith M",
      "userId": "12033836580644727059"
     },
     "user_tz": -60
    },
    "id": "BtDxG0pGzzVL",
    "outputId": "5a4aded8-1fcb-4ea3-ee57-244dce43a2bd"
   },
   "outputs": [],
   "source": [
    "test_loss_base, test_acc_base = baseline_model.evaluate(test_ds)\n",
    "test_loss_deep, test_acc_deep = deeper_model.evaluate(test_ds)\n",
    "test_loss_wide, test_acc_wide = wider_model.evaluate(test_ds)\n",
    "\n",
    "print(\"Test accuracy for each model\")\n",
    "print(f\"Baseline Model: {test_acc_base}\")\n",
    "print(f\"Deeper Model: {test_acc_deep}\")\n",
    "print(f\"Wider Model: {test_acc_wide}\")"
   ]
  },
  {
   "cell_type": "code",
   "execution_count": null,
   "metadata": {
    "colab": {
     "base_uri": "https://localhost:8080/",
     "height": 392
    },
    "executionInfo": {
     "elapsed": 130,
     "status": "ok",
     "timestamp": 1746901688691,
     "user": {
      "displayName": "Keith M",
      "userId": "12033836580644727059"
     },
     "user_tz": -60
    },
    "id": "umoVZ06l2nWQ",
    "outputId": "e2e9eca8-a7fb-4503-cfb1-716a22662a19"
   },
   "outputs": [],
   "source": [
    "model_names = ['Baseline Model', 'Deeper Model', 'Wider Model']\n",
    "test_acc = [test_acc_base, test_acc_deep, test_acc_wide]\n",
    "val_acc = [baseline_val_acc, deeper_val_acc, wider_val_acc]\n",
    "\n",
    "barWidth = 0.3\n",
    "#set bar positions\n",
    "r1 = np.arange(len(model_names))\n",
    "r2 = [x + barWidth for x in r1]\n",
    "\n",
    "#create the grouped bar chart\n",
    "plt.figure(figsize=(10, 6))\n",
    "plt.bar(r1, test_acc, width=barWidth, label='Test Accuracy', color='blue')\n",
    "plt.bar(r2, val_acc, width=barWidth, label='Validation Accuracy', color='orange')\n",
    "\n",
    "#add labels and title\n",
    "plt.xlabel('Models')\n",
    "plt.ylabel('Accuracy')\n",
    "plt.title('Test and Validation Accuracy Comparison')\n",
    "plt.xticks([r + barWidth/2 for r in range(len(model_names))], model_names)\n",
    "plt.ylim(0, 1.1)\n",
    "\n",
    "plt.legend()\n",
    "\n",
    "#add grid\n",
    "plt.grid(axis='y', linestyle='--', alpha=0.7)\n",
    "\n",
    "plt.tight_layout()\n",
    "plt.show()"
   ]
  },
  {
   "cell_type": "markdown",
   "metadata": {
    "id": "DANqoyT9wXcH"
   },
   "source": [
    "## Test on own images"
   ]
  },
  {
   "cell_type": "code",
   "execution_count": null,
   "metadata": {
    "colab": {
     "base_uri": "https://localhost:8080/",
     "height": 351
    },
    "executionInfo": {
     "elapsed": 66114,
     "status": "ok",
     "timestamp": 1746904724998,
     "user": {
      "displayName": "Keith M",
      "userId": "12033836580644727059"
     },
     "user_tz": -60
    },
    "id": "YUBCeCluwbWF",
    "outputId": "30384d9f-5170-435d-fb52-580ccae0f427"
   },
   "outputs": [],
   "source": [
    "# Create the directory if it doesn't exist\n",
    "!mkdir -p /content/my_test_images\n",
    "\n",
    "# Upload images\n",
    "from google.colab import files\n",
    "uploaded = files.upload()\n",
    "\n",
    "# Save each file with its original name and extension\n",
    "for fn in uploaded.keys():\n",
    "   os.rename(fn, f'/content/my_test_images/{fn}')\n",
    "   print(f\"Saved {fn} to /content/my_test_images/{fn}\")\n",
    "\n",
    "# Verify the uploads worked\n",
    "image_files = [f for f in os.listdir('/content/my_test_images')\n",
    "              if f.lower().endswith(('.png', '.jpg', '.jpeg'))]\n",
    "print(f\"\\nFound {len(image_files)} image files in /content/my_test_images:\")\n",
    "for img in image_files:\n",
    "    print(f\"- {img}\")"
   ]
  },
  {
   "cell_type": "code",
   "execution_count": null,
   "metadata": {
    "colab": {
     "base_uri": "https://localhost:8080/"
    },
    "executionInfo": {
     "elapsed": 69,
     "status": "ok",
     "timestamp": 1746904748727,
     "user": {
      "displayName": "Keith M",
      "userId": "12033836580644727059"
     },
     "user_tz": -60
    },
    "id": "DkZJvMFp0ccv",
    "outputId": "05cc6c77-43ec-406b-a4a5-272a67abaf19"
   },
   "outputs": [],
   "source": [
    "# Check if the folder exists\n",
    "folder_path = '/content/my_test_images'\n",
    "print(f\"Folder exists: {os.path.exists(folder_path)}\")\n",
    "\n",
    "# List contents of the parent directory to verify the folder name\n",
    "parent_dir = os.path.dirname(folder_path)\n",
    "print(f\"Contents of {parent_dir}:\")\n",
    "print(os.listdir(parent_dir))\n",
    "\n",
    "# If the folder exists, list its contents\n",
    "if os.path.exists(folder_path):\n",
    "    print(f\"\\nContents of {folder_path}:\")\n",
    "    files = os.listdir(folder_path)\n",
    "    print(files)\n",
    "\n",
    "    # Check file extensions\n",
    "    print(\"\\nFile extensions:\")\n",
    "    for file in files:\n",
    "        _, ext = os.path.splitext(file)\n",
    "        print(f\"{file}: {ext}\")"
   ]
  },
  {
   "cell_type": "code",
   "execution_count": null,
   "metadata": {
    "colab": {
     "base_uri": "https://localhost:8080/",
     "height": 1000,
     "output_embedded_package_id": "1Jx2T-pb2EHg5DuqQkIiWs4Nv3lKZ1Jen"
    },
    "executionInfo": {
     "elapsed": 6045,
     "status": "ok",
     "timestamp": 1746901765635,
     "user": {
      "displayName": "Keith M",
      "userId": "12033836580644727059"
     },
     "user_tz": -60
    },
    "id": "AfkY2mlpw2vG",
    "outputId": "0c4de3e3-1e79-4119-8be3-38fb8847e0f8"
   },
   "outputs": [],
   "source": [
    "# Define variables\n",
    "models_types  = [baseline_model, deeper_model, wider_model]\n",
    "names = ['Baseline', 'Deeper', 'Wider']\n",
    "image_folder = '/content/my_test_images'  # Path to your test images folder\n",
    "class_names = ['paper', 'rock', 'scissors']  # Make sure these match your model's classes\n",
    "image_size = (224, 224)  # Size to resize images to\n",
    "\n",
    "# Get all image files\n",
    "image_files = [f for f in os.listdir(image_folder)\n",
    "              if f.lower().endswith(('.png', '.jpg', '.jpeg'))]\n",
    "\n",
    "print(f\"Found {len(image_files)} image files: {image_files}\")\n",
    "\n",
    "if not image_files:\n",
    "    print(f\"No images found in {image_folder}\")\n",
    "else:\n",
    "  for model, name in zip(models_types, names):\n",
    "      # Set up the plot\n",
    "      n_images = len(image_files)\n",
    "      fig = plt.figure(figsize=(15, 4 * n_images))\n",
    "\n",
    "      # Process each image\n",
    "      plt.title(f\"Model: {name}\")\n",
    "      for i, img_file in enumerate(image_files):\n",
    "          # Load and preprocess image\n",
    "          img_path = os.path.join(image_folder, img_file)\n",
    "          img = image.load_img(img_path, target_size=image_size)\n",
    "          img_array = image.img_to_array(img)\n",
    "          img_array = img_array / 255.0  # Normalize to [0,1]\n",
    "          img_array = np.expand_dims(img_array, axis=0)  # Add batch dimension\n",
    "\n",
    "          # Make prediction\n",
    "          predictions = model.predict(img_array, verbose=0)\n",
    "          predicted_class_idx = np.argmax(predictions[0])\n",
    "          predicted_class = class_names[predicted_class_idx]\n",
    "          confidence = predictions[0][predicted_class_idx] * 100\n",
    "\n",
    "          # Display image and prediction\n",
    "          plt.subplot(n_images, 2, i*2 + 1)\n",
    "          plt.imshow(img)\n",
    "          plt.title(f\"File: {img_file}\")\n",
    "          plt.axis('off')\n",
    "\n",
    "          # Display prediction details\n",
    "          plt.subplot(n_images, 2, i*2 + 2)\n",
    "          # Create bar chart of predictions\n",
    "          bars = plt.bar(class_names, predictions[0])\n",
    "          bars[predicted_class_idx].set_color('red')\n",
    "          plt.ylim([0, 1.0])\n",
    "          plt.title(f\"Prediction: {predicted_class} ({confidence:.1f}%)\")\n",
    "\n",
    "      plt.tight_layout()\n",
    "      plt.show()"
   ]
  },
  {
   "cell_type": "markdown",
   "metadata": {
    "id": "Xey14PQHZeXJ"
   },
   "source": [
    "# Augmented data"
   ]
  },
  {
   "cell_type": "code",
   "execution_count": null,
   "metadata": {
    "colab": {
     "base_uri": "https://localhost:8080/",
     "height": 1000
    },
    "executionInfo": {
     "elapsed": 5490,
     "status": "ok",
     "timestamp": 1746901771179,
     "user": {
      "displayName": "Keith M",
      "userId": "12033836580644727059"
     },
     "user_tz": -60
    },
    "id": "dr3rDFSFN8LG",
    "outputId": "51252408-921c-4553-f963-e26db3c3aa3f"
   },
   "outputs": [],
   "source": [
    "data_augmentation = keras.Sequential([\n",
    "    layers.RandomFlip(\"horizontal\"),\n",
    "    layers.RandomRotation(0.3),  # More rotation\n",
    "    layers.RandomZoom(0.3),      # More zoom\n",
    "    layers.RandomBrightness(0.4), # More brightness variation\n",
    "    layers.RandomContrast(0.3),   # More contrast variation\n",
    "    layers.RandomTranslation(0.2, 0.2)  # Add translation\n",
    "])\n",
    "\n",
    "# Visualize the augmentation effects on some training images\n",
    "plt.figure(figsize=(10, 10))\n",
    "for images, labels in train_ds.take(1):\n",
    "    # Display original images in first row\n",
    "    for i in range(min(9, len(images))):\n",
    "        ax = plt.subplot(3, 3, i + 1)\n",
    "        plt.imshow(images[i].numpy().astype(\"uint8\"))\n",
    "        plt.title(class_names[labels[i]])\n",
    "        plt.axis(\"off\")\n",
    "plt.tight_layout()\n",
    "plt.show()\n",
    "\n",
    "# Now show augmented versions\n",
    "plt.figure(figsize=(10, 10))\n",
    "for images, labels in train_ds.take(1):\n",
    "    # Apply data augmentation\n",
    "    augmented_images = data_augmentation(images, training=True)\n",
    "    # Display augmented images\n",
    "    for i in range(min(9, len(augmented_images))):\n",
    "        ax = plt.subplot(3, 3, i + 1)\n",
    "        plt.imshow(augmented_images[i].numpy().astype(\"uint8\"))\n",
    "        plt.title(class_names[labels[i]])\n",
    "        plt.axis(\"off\")\n",
    "plt.tight_layout()\n",
    "plt.show()"
   ]
  },
  {
   "cell_type": "code",
   "execution_count": null,
   "metadata": {
    "executionInfo": {
     "elapsed": 264,
     "status": "ok",
     "timestamp": 1746902044082,
     "user": {
      "displayName": "Keith M",
      "userId": "12033836580644727059"
     },
     "user_tz": -60
    },
    "id": "MSFUb_YOO70l"
   },
   "outputs": [],
   "source": [
    "# Method 1: Apply augmentation to the dataset\n",
    "def apply_augmentation(images, labels):\n",
    "    # Apply augmentation only during training\n",
    "    augmented_images = data_augmentation(images, training=True)\n",
    "    return augmented_images, labels\n",
    "\n",
    "# Create an augmented training dataset\n",
    "augmented_train_ds = train_ds.map(\n",
    "    apply_augmentation,\n",
    "    num_parallel_calls=tf.data.AUTOTUNE\n",
    ")"
   ]
  },
  {
   "cell_type": "code",
   "execution_count": null,
   "metadata": {
    "colab": {
     "base_uri": "https://localhost:8080/"
    },
    "executionInfo": {
     "elapsed": 219823,
     "status": "ok",
     "timestamp": 1746902266722,
     "user": {
      "displayName": "Keith M",
      "userId": "12033836580644727059"
     },
     "user_tz": -60
    },
    "id": "FrOa3ZtpPw7g",
    "outputId": "da7e7268-68cb-4597-ac49-0e310c58a493"
   },
   "outputs": [],
   "source": [
    "#create a simple baseline CNN\n",
    "baseline_model = models.Sequential([\n",
    "    #first convolutional block\n",
    "    layers.Conv2D(32, (3, 3), activation='relu', padding='same', input_shape=(224, 224, 3)),\n",
    "    layers.MaxPooling2D((2, 2)),\n",
    "\n",
    "    #second convolutional block\n",
    "    layers.Conv2D(64, (3, 3), activation='relu', padding='same'),\n",
    "    layers.MaxPooling2D((2, 2)),\n",
    "\n",
    "    #flatten and dense layers\n",
    "    layers.Flatten(),\n",
    "    layers.Dense(128, activation='relu'),\n",
    "    layers.Dense(3, activation='softmax')  # 3 classes: rock, paper, scissors\n",
    "])\n",
    "\n",
    "#compile the model\n",
    "baseline_model.compile(\n",
    "    optimizer='adam',\n",
    "    loss='sparse_categorical_crossentropy',\n",
    "    metrics=['accuracy']\n",
    ")\n",
    "\n",
    "baseline_history = baseline_model.fit(\n",
    "    augmented_train_ds,\n",
    "    validation_data=val_ds,\n",
    "    epochs=15,\n",
    "    callbacks=[early_stopping]\n",
    ")\n",
    "baseline_val_loss, baseline_val_acc = baseline_model.evaluate(val_ds)\n",
    "print(f\"Baseline model validation accuracy: {baseline_val_acc:.4f}\")\n",
    "\n",
    "baseline_test_loss, baseline_test_acc = baseline_model.evaluate(test_ds)\n",
    "print(f\"Baseline model test accuracy: {baseline_test_acc:.4f}\")"
   ]
  },
  {
   "cell_type": "code",
   "execution_count": null,
   "metadata": {
    "colab": {
     "base_uri": "https://localhost:8080/"
    },
    "executionInfo": {
     "elapsed": 182373,
     "status": "ok",
     "timestamp": 1746902453637,
     "user": {
      "displayName": "Keith M",
      "userId": "12033836580644727059"
     },
     "user_tz": -60
    },
    "id": "Xvr2q878Phtu",
    "outputId": "aa843a9f-d3df-47e2-9ef4-1da861c516bb"
   },
   "outputs": [],
   "source": [
    "#create a deeper CNN model\n",
    "deeper_model = models.Sequential([\n",
    "    #first convolutional block\n",
    "    layers.Conv2D(32, (3, 3), activation='relu', padding='same', input_shape=(224, 224, 3)),\n",
    "    layers.BatchNormalization(),\n",
    "    layers.Conv2D(32, (3, 3), activation='relu', padding='same'),\n",
    "    layers.MaxPooling2D((2, 2)),\n",
    "\n",
    "    #second convolutional block\n",
    "    layers.Conv2D(64, (3, 3), activation='relu', padding='same'),\n",
    "    layers.BatchNormalization(),\n",
    "    layers.Conv2D(64, (3, 3), activation='relu', padding='same'),\n",
    "    layers.MaxPooling2D((2, 2)),\n",
    "\n",
    "    #third convolutional block\n",
    "    layers.Conv2D(128, (3, 3), activation='relu', padding='same'),\n",
    "    layers.BatchNormalization(),\n",
    "    layers.Conv2D(128, (3, 3), activation='relu', padding='same'),\n",
    "    layers.MaxPooling2D((2, 2)),\n",
    "\n",
    "    #flatten and dense layers\n",
    "    layers.Flatten(),\n",
    "    layers.Dense(256, activation='relu'),\n",
    "    layers.Dropout(0.5),\n",
    "    layers.Dense(3, activation='softmax')\n",
    "])\n",
    "\n",
    "#compile the model\n",
    "deeper_model.compile(\n",
    "    optimizer='adam',\n",
    "    loss='sparse_categorical_crossentropy',\n",
    "    metrics=['accuracy']\n",
    ")\n",
    "\n",
    "deeper_history = deeper_model.fit(\n",
    "    augmented_train_ds,\n",
    "    validation_data=val_ds,\n",
    "    epochs=15,\n",
    "    callbacks=[early_stopping]\n",
    ")\n",
    "deeper_val_loss, deeper_val_acc = deeper_model.evaluate(val_ds)\n",
    "print(f\"Deeper model validation accuracy: {deeper_val_acc:.4f}\")\n",
    "\n",
    "deeper_test_loss, deeper_test_acc = deeper_model.evaluate(test_ds)\n",
    "print(f\"Deeper model test accuracy: {deeper_test_acc:.4f}\")"
   ]
  },
  {
   "cell_type": "code",
   "execution_count": null,
   "metadata": {
    "colab": {
     "base_uri": "https://localhost:8080/"
    },
    "executionInfo": {
     "elapsed": 176057,
     "status": "ok",
     "timestamp": 1746902646320,
     "user": {
      "displayName": "Keith M",
      "userId": "12033836580644727059"
     },
     "user_tz": -60
    },
    "id": "EcO-uhciPVE5",
    "outputId": "7070ddc4-f62e-4612-b5a0-6376fa4b3461"
   },
   "outputs": [],
   "source": [
    "#create a wider CNN model\n",
    "wider_model = models.Sequential([\n",
    "    #first convolutional block with more filters\n",
    "    layers.Conv2D(64, (3, 3), activation='relu', padding='same', input_shape=(224, 224, 3)),\n",
    "    layers.MaxPooling2D((2, 2)),\n",
    "\n",
    "    #second convolutional block with more filters\n",
    "    layers.Conv2D(128, (3, 3), activation='relu', padding='same'),\n",
    "    layers.MaxPooling2D((2, 2)),\n",
    "\n",
    "    #flatten and wider dense layers\n",
    "    layers.Flatten(),\n",
    "    layers.Dense(512, activation='relu'),\n",
    "    layers.Dropout(0.5),\n",
    "    layers.Dense(3, activation='softmax')\n",
    "])\n",
    "\n",
    "#compile the model\n",
    "wider_model.compile(\n",
    "    optimizer='adam',\n",
    "    loss='sparse_categorical_crossentropy',\n",
    "    metrics=['accuracy']\n",
    ")\n",
    "\n",
    "wider_history = wider_model.fit(\n",
    "    augmented_train_ds,\n",
    "    validation_data=val_ds,\n",
    "    epochs=15,\n",
    "    callbacks=[early_stopping]\n",
    ")\n",
    "wider_val_loss, wider_val_acc = wider_model.evaluate(val_ds)\n",
    "print(f\"Wider model validation accuracy: {wider_val_acc:.4f}\")\n",
    "\n",
    "wider_test_loss, wider_test_acc = wider_model.evaluate(test_ds)\n",
    "print(f\"Wider model test accuracy: {wider_test_acc:.4f}\")"
   ]
  },
  {
   "cell_type": "code",
   "execution_count": null,
   "metadata": {
    "colab": {
     "base_uri": "https://localhost:8080/",
     "height": 392
    },
    "executionInfo": {
     "elapsed": 146,
     "status": "ok",
     "timestamp": 1746902649693,
     "user": {
      "displayName": "Keith M",
      "userId": "12033836580644727059"
     },
     "user_tz": -60
    },
    "id": "mGgGc4w3RH9y",
    "outputId": "9c3b9752-7339-4ecb-a8e6-c7fa251630ae"
   },
   "outputs": [],
   "source": [
    "model_names = ['Baseline Model', 'Deeper Model', 'Wider Model']\n",
    "test_acc = [baseline_test_acc, deeper_test_acc, wider_test_acc]\n",
    "val_acc = [baseline_val_acc, deeper_val_acc, wider_val_acc]\n",
    "\n",
    "barWidth = 0.3\n",
    "#set bar positions\n",
    "r1 = np.arange(len(model_names))\n",
    "r2 = [x + barWidth for x in r1]\n",
    "\n",
    "#create the grouped bar chart\n",
    "plt.figure(figsize=(10, 6))\n",
    "plt.bar(r1, test_acc, width=barWidth, label='Test Accuracy', color='blue')\n",
    "plt.bar(r2, val_acc, width=barWidth, label='Validation Accuracy', color='orange')\n",
    "\n",
    "#add labels and title\n",
    "plt.xlabel('Models')\n",
    "plt.ylabel('Accuracy')\n",
    "plt.title('Test and Validation Accuracy Comparison')\n",
    "plt.xticks([r + barWidth/2 for r in range(len(model_names))], model_names)\n",
    "plt.ylim(0, 1.1)\n",
    "\n",
    "plt.legend()\n",
    "\n",
    "#add grid\n",
    "plt.grid(axis='y', linestyle='--', alpha=0.7)\n",
    "\n",
    "plt.tight_layout()\n",
    "plt.show()"
   ]
  },
  {
   "cell_type": "code",
   "execution_count": null,
   "metadata": {
    "colab": {
     "base_uri": "https://localhost:8080/",
     "height": 1000,
     "output_embedded_package_id": "1I6dYKmh9R64EMHroZqV3geBEhtC_U222"
    },
    "executionInfo": {
     "elapsed": 5257,
     "status": "ok",
     "timestamp": 1746902658687,
     "user": {
      "displayName": "Keith M",
      "userId": "12033836580644727059"
     },
     "user_tz": -60
    },
    "id": "RFktfR7CTRs3",
    "outputId": "d02f4809-4317-4f69-fc7b-51fd4c037dac"
   },
   "outputs": [],
   "source": [
    "# Define variables\n",
    "model_types  = [baseline_model, deeper_model, wider_model]\n",
    "names = ['Baseline', 'Deeper', 'Wider']\n",
    "image_folder = '/content/my_test_images'  # Path to your test images folder\n",
    "class_names = ['paper', 'rock', 'scissors']  # Make sure these match your model's classes\n",
    "image_size = (224, 224)  # Size to resize images to\n",
    "\n",
    "# Get all image files\n",
    "image_files = [f for f in os.listdir(image_folder)\n",
    "              if f.lower().endswith(('.png', '.jpg', '.jpeg'))]\n",
    "\n",
    "print(f\"Found {len(image_files)} image files: {image_files}\")\n",
    "\n",
    "if not image_files:\n",
    "    print(f\"No images found in {image_folder}\")\n",
    "else:\n",
    "  for model, name in zip(model_types, names):\n",
    "      # Set up the plot\n",
    "      n_images = len(image_files)\n",
    "      fig = plt.figure(figsize=(15, 4 * n_images))\n",
    "\n",
    "      # Process each image\n",
    "      plt.title(f\"Model: {name}\")\n",
    "      for i, img_file in enumerate(image_files):\n",
    "          # Load and preprocess image\n",
    "          img_path = os.path.join(image_folder, img_file)\n",
    "          img = image.load_img(img_path, target_size=image_size)\n",
    "          img_array = image.img_to_array(img)\n",
    "          img_array = img_array / 255.0  # Normalize to [0,1]\n",
    "          img_array = np.expand_dims(img_array, axis=0)  # Add batch dimension\n",
    "\n",
    "          # Make prediction\n",
    "          predictions = model.predict(img_array, verbose=0)\n",
    "          predicted_class_idx = np.argmax(predictions[0])\n",
    "          predicted_class = class_names[predicted_class_idx]\n",
    "          confidence = predictions[0][predicted_class_idx] * 100\n",
    "\n",
    "          # Display image and prediction\n",
    "          plt.subplot(n_images, 2, i*2 + 1)\n",
    "          plt.imshow(img)\n",
    "          plt.title(f\"File: {img_file}\")\n",
    "          plt.axis('off')\n",
    "\n",
    "          # Display prediction details\n",
    "          plt.subplot(n_images, 2, i*2 + 2)\n",
    "          # Create bar chart of predictions\n",
    "          bars = plt.bar(class_names, predictions[0])\n",
    "          bars[predicted_class_idx].set_color('red')\n",
    "          plt.ylim([0, 1.0])\n",
    "          plt.title(f\"Prediction: {predicted_class} ({confidence:.1f}%)\")\n",
    "\n",
    "      plt.tight_layout()\n",
    "      plt.show()"
   ]
  },
  {
   "cell_type": "markdown",
   "metadata": {
    "id": "T5Q3psCWZiDX"
   },
   "source": [
    "# Improved model"
   ]
  },
  {
   "cell_type": "code",
   "execution_count": null,
   "metadata": {
    "colab": {
     "base_uri": "https://localhost:8080/",
     "height": 1000
    },
    "executionInfo": {
     "elapsed": 1000,
     "status": "ok",
     "timestamp": 1746903255502,
     "user": {
      "displayName": "Keith M",
      "userId": "12033836580644727059"
     },
     "user_tz": -60
    },
    "id": "DamJvKhRZwwd",
    "outputId": "398130cd-40fb-448f-a14c-7ff7c300a8db"
   },
   "outputs": [],
   "source": [
    "# Define model constants\n",
    "IMG_SIZE = (224, 224)\n",
    "NUM_CLASSES = 3\n",
    "\n",
    "# Create a powerful CNN from scratch (no pre-trained weights)\n",
    "powerful_scratch_model = tf.keras.Sequential([\n",
    "    # Preprocessing layers\n",
    "    layers.Rescaling(1./255),  # Normalize pixel values\n",
    "\n",
    "    # Data augmentation (only applied during training)\n",
    "    layers.RandomFlip(\"horizontal_and_vertical\"),\n",
    "    layers.RandomRotation(0.3),\n",
    "    layers.RandomZoom(0.2),\n",
    "    layers.RandomContrast(0.3),\n",
    "    layers.RandomTranslation(0.2, 0.2),\n",
    "    layers.RandomBrightness(0.2),\n",
    "\n",
    "    # First convolutional block with batch normalization\n",
    "    layers.Conv2D(64, (3, 3), padding='same', kernel_regularizer=regularizers.l2(0.001)),\n",
    "    layers.BatchNormalization(),\n",
    "    layers.Activation('relu'),\n",
    "    layers.Conv2D(64, (3, 3), padding='same', kernel_regularizer=regularizers.l2(0.001)),\n",
    "    layers.BatchNormalization(),\n",
    "    layers.Activation('relu'),\n",
    "    layers.MaxPooling2D(pool_size=(2, 2)),\n",
    "    layers.Dropout(0.25),\n",
    "\n",
    "    # Second convolutional block\n",
    "    layers.Conv2D(128, (3, 3), padding='same', kernel_regularizer=regularizers.l2(0.001)),\n",
    "    layers.BatchNormalization(),\n",
    "    layers.Activation('relu'),\n",
    "    layers.Conv2D(128, (3, 3), padding='same', kernel_regularizer=regularizers.l2(0.001)),\n",
    "    layers.BatchNormalization(),\n",
    "    layers.Activation('relu'),\n",
    "    layers.MaxPooling2D(pool_size=(2, 2)),\n",
    "    layers.Dropout(0.25),\n",
    "\n",
    "    # Third convolutional block\n",
    "    layers.Conv2D(256, (3, 3), padding='same', kernel_regularizer=regularizers.l2(0.001)),\n",
    "    layers.BatchNormalization(),\n",
    "    layers.Activation('relu'),\n",
    "    layers.Conv2D(256, (3, 3), padding='same', kernel_regularizer=regularizers.l2(0.001)),\n",
    "    layers.BatchNormalization(),\n",
    "    layers.Activation('relu'),\n",
    "    layers.Conv2D(256, (3, 3), padding='same', kernel_regularizer=regularizers.l2(0.001)),\n",
    "    layers.BatchNormalization(),\n",
    "    layers.Activation('relu'),\n",
    "    layers.MaxPooling2D(pool_size=(2, 2)),\n",
    "    layers.Dropout(0.25),\n",
    "\n",
    "    # Fourth convolutional block\n",
    "    layers.Conv2D(512, (3, 3), padding='same', kernel_regularizer=regularizers.l2(0.001)),\n",
    "    layers.BatchNormalization(),\n",
    "    layers.Activation('relu'),\n",
    "    layers.Conv2D(512, (3, 3), padding='same', kernel_regularizer=regularizers.l2(0.001)),\n",
    "    layers.BatchNormalization(),\n",
    "    layers.Activation('relu'),\n",
    "    layers.Conv2D(512, (3, 3), padding='same', kernel_regularizer=regularizers.l2(0.001)),\n",
    "    layers.BatchNormalization(),\n",
    "    layers.Activation('relu'),\n",
    "    layers.MaxPooling2D(pool_size=(2, 2)),\n",
    "    layers.Dropout(0.25),\n",
    "\n",
    "    # Flatten and dense layers\n",
    "    layers.Flatten(),\n",
    "    layers.Dense(1024, kernel_regularizer=regularizers.l2(0.001)),\n",
    "    layers.BatchNormalization(),\n",
    "    layers.Activation('relu'),\n",
    "    layers.Dropout(0.5),\n",
    "\n",
    "    layers.Dense(512, kernel_regularizer=regularizers.l2(0.001)),\n",
    "    layers.BatchNormalization(),\n",
    "    layers.Activation('relu'),\n",
    "    layers.Dropout(0.5),\n",
    "\n",
    "    # Output layer\n",
    "    layers.Dense(NUM_CLASSES, activation='softmax')\n",
    "])\n",
    "\n",
    "# Compile with Adam optimizer\n",
    "powerful_scratch_model.compile(\n",
    "    optimizer=tf.keras.optimizers.Adam(learning_rate=0.0001),  # Lower learning rate for stability\n",
    "    loss='sparse_categorical_crossentropy',\n",
    "    metrics=['accuracy']\n",
    ")\n",
    "\n",
    "# Display model summary\n",
    "print(\"Powerful Scratch CNN Architecture:\")\n",
    "powerful_scratch_model.summary()\n",
    "\n",
    "# Create callbacks for training\n",
    "early_stopping = tf.keras.callbacks.EarlyStopping(\n",
    "    monitor='val_loss',\n",
    "    patience=10,\n",
    "    restore_best_weights=True\n",
    ")\n",
    "\n",
    "reduce_lr = tf.keras.callbacks.ReduceLROnPlateau(\n",
    "    monitor='val_loss',\n",
    "    factor=0.5,\n",
    "    patience=3,\n",
    "    min_lr=0.00001\n",
    ")"
   ]
  },
  {
   "cell_type": "code",
   "execution_count": null,
   "metadata": {
    "colab": {
     "base_uri": "https://localhost:8080/"
    },
    "executionInfo": {
     "elapsed": 1300767,
     "status": "ok",
     "timestamp": 1746904559938,
     "user": {
      "displayName": "Keith M",
      "userId": "12033836580644727059"
     },
     "user_tz": -60
    },
    "id": "n0COghBuZ2S4",
    "outputId": "ded82063-6f8f-4d21-e7bb-7c2ff0e1c4f7"
   },
   "outputs": [],
   "source": [
    "# Train the model\n",
    "print(\"\\nTraining the powerful scratch model...\")\n",
    "start_time = time.time()\n",
    "\n",
    "powerful_scratch_history = powerful_scratch_model.fit(\n",
    "    train_ds,\n",
    "    validation_data=val_ds,\n",
    "    epochs=20,\n",
    "    batch_size=16,\n",
    "    callbacks=[early_stopping, reduce_lr]\n",
    ")\n",
    "\n",
    "powerful_scratch_training_time = time.time() - start_time\n",
    "print(f\"\\nPowerful scratch model training time: {powerful_scratch_training_time:.2f} seconds\")\n",
    "\n",
    "# Evaluate on test set\n",
    "powerful_scratch_test_loss, powerful_scratch_test_acc = powerful_scratch_model.evaluate(test_ds)\n",
    "print(f\"Powerful scratch model test accuracy: {powerful_scratch_test_acc:.4f}\")"
   ]
  },
  {
   "cell_type": "code",
   "execution_count": null,
   "metadata": {
    "colab": {
     "base_uri": "https://localhost:8080/",
     "height": 840
    },
    "executionInfo": {
     "elapsed": 3052,
     "status": "ok",
     "timestamp": 1746904761712,
     "user": {
      "displayName": "Keith M",
      "userId": "12033836580644727059"
     },
     "user_tz": -60
    },
    "id": "WSS3iokdoVTH",
    "outputId": "6fbb2a3e-5212-4bac-ee9e-872c3743e51e"
   },
   "outputs": [],
   "source": [
    "# Test on your custom images\n",
    "image_folder = '/content/my_test_images'\n",
    "image_files = [f for f in os.listdir(image_folder)\n",
    "              if f.lower().endswith(('.png', '.jpg', '.jpeg'))]\n",
    "\n",
    "print(f\"\\nTesting powerful scratch model on custom images:\")\n",
    "n_images = len(image_files)\n",
    "fig = plt.figure(figsize=(15, 4 * n_images))\n",
    "\n",
    "for i, img_file in enumerate(image_files):\n",
    "    # Load and preprocess image\n",
    "    img_path = os.path.join(image_folder, img_file)\n",
    "    img = image.load_img(img_path, target_size=IMG_SIZE)\n",
    "    img_array = image.img_to_array(img)\n",
    "    img_array = np.expand_dims(img_array, axis=0)  # Add batch dimension\n",
    "\n",
    "    # Make prediction\n",
    "    predictions = powerful_scratch_model.predict(img_array, verbose=0)\n",
    "    predicted_class_idx = np.argmax(predictions[0])\n",
    "    predicted_class = class_names[predicted_class_idx]\n",
    "    confidence = predictions[0][predicted_class_idx] * 100\n",
    "\n",
    "    # Display image and prediction\n",
    "    plt.subplot(n_images, 2, i*2 + 1)\n",
    "    plt.imshow(img)\n",
    "    plt.title(f\"File: {img_file}\")\n",
    "    plt.axis('off')\n",
    "\n",
    "    # Display prediction details\n",
    "    plt.subplot(n_images, 2, i*2 + 2)\n",
    "    bars = plt.bar(class_names, predictions[0])\n",
    "    bars[predicted_class_idx].set_color('red')\n",
    "    plt.ylim([0, 1.0])\n",
    "    plt.title(f\"Prediction: {predicted_class} ({confidence:.1f}%)\")\n",
    "\n",
    "plt.tight_layout()\n",
    "plt.show()"
   ]
  }
 ],
 "metadata": {
  "accelerator": "GPU",
  "colab": {
   "authorship_tag": "ABX9TyN2NeMs3CfXKy9dqxnXwFZs",
   "gpuType": "T4",
   "machine_shape": "hm",
   "provenance": []
  },
  "kernelspec": {
   "display_name": "Python 3",
   "name": "python3"
  },
  "language_info": {
   "name": "python"
  }
 },
 "nbformat": 4,
 "nbformat_minor": 0
}
