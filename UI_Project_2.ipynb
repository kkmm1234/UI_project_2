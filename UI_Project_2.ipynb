{
 "cells": [
  {
   "cell_type": "code",
   "execution_count": null,
   "metadata": {
    "executionInfo": {
     "elapsed": 3918,
     "status": "ok",
     "timestamp": 1746882659968,
     "user": {
      "displayName": "Keith M",
      "userId": "12033836580644727059"
     },
     "user_tz": -60
    },
    "id": "5x4gtrdMFazU"
   },
   "outputs": [],
   "source": [
    "from google.colab import drive, files\n",
    "import tensorflow as tf\n",
    "import numpy as np\n",
    "import pandas as pd\n",
    "import matplotlib.pyplot as plt\n",
    "import os\n",
    "from tensorflow.keras import layers, models\n",
    "from tensorflow.keras.preprocessing import image\n",
    "import time\n",
    "from tensorflow import keras\n",
    "\n",
    "student_id = 404488\n",
    "np.random.seed(student_id)\n",
    "tf.random.set_seed(student_id)"
   ]
  },
  {
   "cell_type": "code",
   "execution_count": null,
   "metadata": {
    "colab": {
     "base_uri": "https://localhost:8080/"
    },
    "executionInfo": {
     "elapsed": 73356,
     "status": "ok",
     "timestamp": 1746882733326,
     "user": {
      "displayName": "Keith M",
      "userId": "12033836580644727059"
     },
     "user_tz": -60
    },
    "id": "hKQbdmypIovr",
    "outputId": "b14a116f-703a-4f70-ddd0-695003d7a81c"
   },
   "outputs": [],
   "source": [
    "drive.flush_and_unmount\n",
    "drive.mount('/content/drive')\n",
    "!unzip -q '/content/drive/MyDrive/rock-paper-scissors.zip' -d '/content/drive/MyDrive/gesture_dataset'"
   ]
  },
  {
   "cell_type": "code",
   "execution_count": null,
   "metadata": {
    "executionInfo": {
     "elapsed": 20,
     "status": "ok",
     "timestamp": 1746882733332,
     "user": {
      "displayName": "Keith M",
      "userId": "12033836580644727059"
     },
     "user_tz": -60
    },
    "id": "eVfnszjJX_o8"
   },
   "outputs": [],
   "source": [
    "#load images from properly formated directories\n",
    "data_dir = '/content/drive/MyDrive/gesture_dataset'\n",
    "train_dir = os.path.join(data_dir, 'Rock-Paper-Scissors', 'train')\n",
    "test_dir = os.path.join(data_dir, 'Rock-Paper-Scissors', 'test')"
   ]
  },
  {
   "cell_type": "code",
   "execution_count": null,
   "metadata": {
    "colab": {
     "base_uri": "https://localhost:8080/"
    },
    "executionInfo": {
     "elapsed": 1318,
     "status": "ok",
     "timestamp": 1746882734652,
     "user": {
      "displayName": "Keith M",
      "userId": "12033836580644727059"
     },
     "user_tz": -60
    },
    "id": "TgvA3mXmb-Uj",
    "outputId": "c49309e2-5198-45cf-8990-0c36616d6c81"
   },
   "outputs": [],
   "source": [
    "img_height = 224\n",
    "img_width = 224\n",
    "batch_size = 32\n",
    "\n",
    "train_ds_full = tf.keras.utils.image_dataset_from_directory(\n",
    "    train_dir,\n",
    "    image_size=(img_height, img_width),\n",
    "    batch_size=None,\n",
    "    shuffle=False,\n",
    "    seed=student_id\n",
    ")\n",
    "\n",
    "test_ds_full = tf.keras.utils.image_dataset_from_directory(\n",
    "    test_dir,\n",
    "    image_size=(img_height, img_width),\n",
    "    batch_size=None,\n",
    "    shuffle=False,\n",
    "    seed=student_id\n",
    ")\n",
    "\n",
    "class_names = train_ds_full.class_names\n",
    "print(f\"Classes: {class_names}\")"
   ]
  },
  {
   "cell_type": "code",
   "execution_count": null,
   "metadata": {
    "executionInfo": {
     "elapsed": 1317,
     "status": "ok",
     "timestamp": 1746882735970,
     "user": {
      "displayName": "Keith M",
      "userId": "12033836580644727059"
     },
     "user_tz": -60
    },
    "id": "6giR9xJRcSUu"
   },
   "outputs": [],
   "source": [
    "#combine into 1 dataset\n",
    "all_images = train_ds_full.concatenate(test_ds_full)\n",
    "#shuffle images\n",
    "all_images = all_images.shuffle(buffer_size=1000, seed=student_id)"
   ]
  },
  {
   "cell_type": "code",
   "execution_count": null,
   "metadata": {
    "colab": {
     "base_uri": "https://localhost:8080/"
    },
    "executionInfo": {
     "elapsed": 7470,
     "status": "ok",
     "timestamp": 1746882743445,
     "user": {
      "displayName": "Keith M",
      "userId": "12033836580644727059"
     },
     "user_tz": -60
    },
    "id": "ztZmPg1mcue-",
    "outputId": "5543fbec-98d4-4519-b163-f2ed673f0121"
   },
   "outputs": [],
   "source": [
    "#get total size\n",
    "total_size = len(list(all_images))\n",
    "print(f\"Total dataset size: {total_size}\")\n",
    "\n",
    "#get data set sizes\n",
    "train_size = int(0.7 * total_size)\n",
    "val_size = int(0.1 * total_size)\n",
    "test_size = total_size - train_size - val_size\n",
    "\n",
    "#create the splits\n",
    "train_ds = all_images.take(train_size).batch(batch_size)\n",
    "remaining = all_images.skip(train_size)\n",
    "val_ds = remaining.take(val_size).batch(batch_size)\n",
    "test_ds = remaining.skip(val_size).batch(batch_size)"
   ]
  },
  {
   "cell_type": "code",
   "execution_count": null,
   "metadata": {
    "colab": {
     "base_uri": "https://localhost:8080/"
    },
    "executionInfo": {
     "elapsed": 9,
     "status": "ok",
     "timestamp": 1746882743468,
     "user": {
      "displayName": "Keith M",
      "userId": "12033836580644727059"
     },
     "user_tz": -60
    },
    "id": "vcQN6xd5TysX",
    "outputId": "2b2dd975-440a-4000-8af5-7a1801229acd"
   },
   "outputs": [],
   "source": [
    "print(\"Data set sizes:\")\n",
    "print(f\"Training set: {tf.data.experimental.cardinality(train_ds)}\")\n",
    "print(f\"Validation set: {tf.data.experimental.cardinality(val_ds)}\")\n",
    "print(f\"Test set: {tf.data.experimental.cardinality(test_ds)}\")"
   ]
  },
  {
   "cell_type": "code",
   "execution_count": null,
   "metadata": {
    "colab": {
     "base_uri": "https://localhost:8080/",
     "height": 657
    },
    "executionInfo": {
     "elapsed": 12561,
     "status": "ok",
     "timestamp": 1746882756030,
     "user": {
      "displayName": "Keith M",
      "userId": "12033836580644727059"
     },
     "user_tz": -60
    },
    "id": "moerUWj8hWux",
    "outputId": "c4ba3832-1b70-4737-9b90-56b040ed2342"
   },
   "outputs": [],
   "source": [
    "#visualise sample images\n",
    "plt.figure(figsize=(12, 12))\n",
    "plt.suptitle(\"Sample Images from Rock-Paper-Scissors Dataset\")\n",
    "\n",
    "#get a batch of images from the training dataset\n",
    "for images, labels in train_ds.take(50):\n",
    "    for i in range(min(9, len(images))):\n",
    "        plt.subplot(3, 3, i + 1)\n",
    "        plt.imshow(images[i].numpy().astype(\"uint8\"))\n",
    "        plt.axis(\"off\")\n",
    "plt.tight_layout(rect=[0, 0, 1, 0.96])\n",
    "plt.show()"
   ]
  },
  {
   "cell_type": "code",
   "execution_count": null,
   "metadata": {
    "executionInfo": {
     "elapsed": 10592,
     "status": "ok",
     "timestamp": 1746882766656,
     "user": {
      "displayName": "Keith M",
      "userId": "12033836580644727059"
     },
     "user_tz": -60
    },
    "id": "LWQeDLusiqkJ"
   },
   "outputs": [],
   "source": [
    "#visualise class distribution\n",
    "def count_examples_per_class(dataset):\n",
    "    class_counts = [0] * len(class_names)\n",
    "    for _, labels in dataset:\n",
    "        for label in labels:\n",
    "            class_counts[label] += 1\n",
    "    return class_counts\n",
    "\n",
    "#calculate class distribution in each split\n",
    "train_counts = count_examples_per_class(train_ds)\n",
    "val_counts = count_examples_per_class(val_ds)\n",
    "test_counts = count_examples_per_class(test_ds)"
   ]
  },
  {
   "cell_type": "code",
   "execution_count": null,
   "metadata": {
    "colab": {
     "base_uri": "https://localhost:8080/",
     "height": 330
    },
    "executionInfo": {
     "elapsed": 209,
     "status": "ok",
     "timestamp": 1746882766881,
     "user": {
      "displayName": "Keith M",
      "userId": "12033836580644727059"
     },
     "user_tz": -60
    },
    "id": "QclGP-WujGDz",
    "outputId": "a865ccd1-f968-4025-9dba-f1908cd248a4"
   },
   "outputs": [],
   "source": [
    "# Plot class distribution\n",
    "plt.figure(figsize=(12, 6))\n",
    "plt.suptitle(\"Class Distribution Across Datasets\")\n",
    "x = np.arange(len(class_names))\n",
    "width = 0.25\n",
    "\n",
    "plt.bar(x - width, train_counts, width, label='Training')\n",
    "plt.bar(x, val_counts, width, label='Validation')\n",
    "plt.bar(x + width, test_counts, width, label='Test')\n",
    "\n",
    "plt.xlabel('Class', fontsize=14)\n",
    "plt.ylabel('Number of Images', fontsize=14)\n",
    "plt.xticks(x, class_names, fontsize=12)\n",
    "plt.legend(fontsize=12)\n",
    "plt.grid(axis='y', linestyle='--', alpha=0.7)\n",
    "plt.tight_layout(rect=[0, 0, 1, 0.96])\n",
    "plt.show()"
   ]
  },
  {
   "cell_type": "code",
   "execution_count": null,
   "metadata": {
    "colab": {
     "base_uri": "https://localhost:8080/",
     "height": 226
    },
    "executionInfo": {
     "elapsed": 4544,
     "status": "ok",
     "timestamp": 1746882771427,
     "user": {
      "displayName": "Keith M",
      "userId": "12033836580644727059"
     },
     "user_tz": -60
    },
    "id": "qXB4UO3pkfNe",
    "outputId": "55c1488f-7b2c-4b93-c35b-55c45917c39a"
   },
   "outputs": [],
   "source": [
    "#visualise image characteristics\n",
    "plt.figure(figsize=(15, 5))\n",
    "plt.suptitle(\"RGB Channel Analysis of Sample Images\")\n",
    "\n",
    "for images, labels in train_ds.take(1):\n",
    "    for i in range(3):\n",
    "        img = images[i].numpy().astype(\"uint8\")\n",
    "        class_label = class_names[labels[i]]\n",
    "\n",
    "        plt.subplot(1, 3, i+1)\n",
    "\n",
    "        #plot RGB histograms\n",
    "        for j, color in enumerate(['red', 'green', 'blue']):\n",
    "            histogram = plt.hist(img[:,:,j].flatten(), bins=256, alpha=0.5, color=color, label=color)\n",
    "\n",
    "        plt.title(f\"{class_label}\")\n",
    "        plt.xlabel(\"Pixel Value\")\n",
    "        plt.ylabel(\"Frequency\")\n",
    "        if i == 0:\n",
    "            plt.legend()\n",
    "        plt.ylim(0, 1500)\n",
    "\n",
    "plt.tight_layout(rect=[0, 0, 1, 0.95])\n",
    "plt.show()"
   ]
  },
  {
   "cell_type": "markdown",
   "metadata": {
    "id": "WldYZyBL5ai5"
   },
   "source": [
    "# 3 initial models\n",
    "Here we test 3 models a baseline a deeper model and a wider model to see which generalises better"
   ]
  },
  {
   "cell_type": "markdown",
   "metadata": {
    "id": "3sgzfkvX5qr3"
   },
   "source": [
    "## Basline model"
   ]
  },
  {
   "cell_type": "code",
   "execution_count": null,
   "metadata": {
    "colab": {
     "base_uri": "https://localhost:8080/",
     "height": 425
    },
    "executionInfo": {
     "elapsed": 700,
     "status": "ok",
     "timestamp": 1746882772129,
     "user": {
      "displayName": "Keith M",
      "userId": "12033836580644727059"
     },
     "user_tz": -60
    },
    "id": "00lmib6LnNnq",
    "outputId": "43bce455-5afc-4e91-e885-8a4c3d7d37f8"
   },
   "outputs": [],
   "source": [
    "#create a simple baseline CNN\n",
    "baseline_model = models.Sequential([\n",
    "    #first convolutional block\n",
    "    layers.Conv2D(32, (3, 3), activation='relu', padding='same', input_shape=(224, 224, 3)),\n",
    "    layers.MaxPooling2D((2, 2)),\n",
    "\n",
    "    #second convolutional block\n",
    "    layers.Conv2D(64, (3, 3), activation='relu', padding='same'),\n",
    "    layers.MaxPooling2D((2, 2)),\n",
    "\n",
    "    #flatten and dense layers\n",
    "    layers.Flatten(),\n",
    "    layers.Dense(128, activation='relu'),\n",
    "    layers.Dense(3, activation='softmax')  # 3 classes: rock, paper, scissors\n",
    "])\n",
    "\n",
    "#compile the model\n",
    "baseline_model.compile(\n",
    "    optimizer='adam',\n",
    "    loss='sparse_categorical_crossentropy',\n",
    "    metrics=['accuracy']\n",
    ")\n",
    "\n",
    "#print model summary\n",
    "print(\"Baseline CNN Architecture:\")\n",
    "baseline_model.summary()"
   ]
  },
  {
   "cell_type": "code",
   "execution_count": null,
   "metadata": {
    "colab": {
     "base_uri": "https://localhost:8080/"
    },
    "executionInfo": {
     "elapsed": 145361,
     "status": "ok",
     "timestamp": 1746882917508,
     "user": {
      "displayName": "Keith M",
      "userId": "12033836580644727059"
     },
     "user_tz": -60
    },
    "id": "oZtNViEhoJkd",
    "outputId": "152251cf-29f8-40ea-9e83-657be1b04b51"
   },
   "outputs": [],
   "source": [
    "#create a callback for early stopping\n",
    "early_stopping = tf.keras.callbacks.EarlyStopping(\n",
    "    monitor='val_loss',\n",
    "    patience=5,\n",
    "    restore_best_weights=True\n",
    ")\n",
    "\n",
    "#train the baseline model\n",
    "print(\"\\nTraining the baseline model...\")\n",
    "start_time = time.time()\n",
    "\n",
    "baseline_history = baseline_model.fit(\n",
    "    train_ds,\n",
    "    validation_data=val_ds,\n",
    "    epochs=15,\n",
    "    callbacks=[early_stopping]\n",
    ")\n",
    "\n",
    "baseline_training_time = time.time() - start_time\n",
    "print(f\"\\nBaseline model training time: {baseline_training_time:.2f} seconds\")\n",
    "\n",
    "#evaluate on validation set\n",
    "baseline_val_loss, baseline_val_acc = baseline_model.evaluate(val_ds)\n",
    "print(f\"Baseline model validation accuracy: {baseline_val_acc:.4f}\")"
   ]
  },
  {
   "cell_type": "markdown",
   "metadata": {
    "id": "0SvGxglr5ubX"
   },
   "source": [
    "## Deeper Model"
   ]
  },
  {
   "cell_type": "code",
   "execution_count": null,
   "metadata": {
    "colab": {
     "base_uri": "https://localhost:8080/",
     "height": 706
    },
    "executionInfo": {
     "elapsed": 149,
     "status": "ok",
     "timestamp": 1746882917658,
     "user": {
      "displayName": "Keith M",
      "userId": "12033836580644727059"
     },
     "user_tz": -60
    },
    "id": "p84C6gqZtZpj",
    "outputId": "cb0669db-1cd2-4746-f5d2-bf7cd1ddb294"
   },
   "outputs": [],
   "source": [
    "#create a deeper CNN model\n",
    "deeper_model = models.Sequential([\n",
    "    #first convolutional block\n",
    "    layers.Conv2D(32, (3, 3), activation='relu', padding='same', input_shape=(224, 224, 3)),\n",
    "    layers.BatchNormalization(),\n",
    "    layers.Conv2D(32, (3, 3), activation='relu', padding='same'),\n",
    "    layers.MaxPooling2D((2, 2)),\n",
    "\n",
    "    #second convolutional block\n",
    "    layers.Conv2D(64, (3, 3), activation='relu', padding='same'),\n",
    "    layers.BatchNormalization(),\n",
    "    layers.Conv2D(64, (3, 3), activation='relu', padding='same'),\n",
    "    layers.MaxPooling2D((2, 2)),\n",
    "\n",
    "    #third convolutional block\n",
    "    layers.Conv2D(128, (3, 3), activation='relu', padding='same'),\n",
    "    layers.BatchNormalization(),\n",
    "    layers.Conv2D(128, (3, 3), activation='relu', padding='same'),\n",
    "    layers.MaxPooling2D((2, 2)),\n",
    "\n",
    "    #flatten and dense layers\n",
    "    layers.Flatten(),\n",
    "    layers.Dense(256, activation='relu'),\n",
    "    layers.Dropout(0.5),\n",
    "    layers.Dense(3, activation='softmax')\n",
    "])\n",
    "\n",
    "#compile the model\n",
    "deeper_model.compile(\n",
    "    optimizer='adam',\n",
    "    loss='sparse_categorical_crossentropy',\n",
    "    metrics=['accuracy']\n",
    ")\n",
    "\n",
    "#print model summary\n",
    "print(\"Deeper CNN Architecture:\")\n",
    "deeper_model.summary()"
   ]
  },
  {
   "cell_type": "code",
   "execution_count": null,
   "metadata": {
    "colab": {
     "base_uri": "https://localhost:8080/"
    },
    "executionInfo": {
     "elapsed": 233244,
     "status": "ok",
     "timestamp": 1746883150905,
     "user": {
      "displayName": "Keith M",
      "userId": "12033836580644727059"
     },
     "user_tz": -60
    },
    "id": "NM1ua6BytcQc",
    "outputId": "1f273e25-1948-47b9-ce13-99297ada322e"
   },
   "outputs": [],
   "source": [
    "#train the deeper model\n",
    "print(\"\\nTraining the deeper model...\")\n",
    "start_time = time.time()\n",
    "\n",
    "deeper_history = deeper_model.fit(\n",
    "    train_ds,\n",
    "    validation_data=val_ds,\n",
    "    epochs=15,\n",
    "    callbacks=[early_stopping]\n",
    ")\n",
    "\n",
    "deeper_training_time = time.time() - start_time\n",
    "print(f\"\\nDeeper model training time: {deeper_training_time:.2f} seconds\")\n",
    "\n",
    "#evaluate on validation set\n",
    "deeper_val_loss, deeper_val_acc = deeper_model.evaluate(val_ds)\n",
    "print(f\"Deeper model validation accuracy: {deeper_val_acc:.4f}\")"
   ]
  },
  {
   "cell_type": "markdown",
   "metadata": {
    "id": "-deh1mXv5xYn"
   },
   "source": [
    "## Wider model"
   ]
  },
  {
   "cell_type": "code",
   "execution_count": null,
   "metadata": {
    "colab": {
     "base_uri": "https://localhost:8080/",
     "height": 420
    },
    "executionInfo": {
     "elapsed": 66,
     "status": "ok",
     "timestamp": 1746883150978,
     "user": {
      "displayName": "Keith M",
      "userId": "12033836580644727059"
     },
     "user_tz": -60
    },
    "id": "OBAvzU9YuI2q",
    "outputId": "44d4e58e-c4ef-47d4-ffd8-2ace55e19314"
   },
   "outputs": [],
   "source": [
    "#create a wider CNN model\n",
    "wider_model = models.Sequential([\n",
    "    #first convolutional block with more filters\n",
    "    layers.Conv2D(64, (3, 3), activation='relu', padding='same', input_shape=(224, 224, 3)),\n",
    "    layers.MaxPooling2D((2, 2)),\n",
    "\n",
    "    #second convolutional block with more filters\n",
    "    layers.Conv2D(128, (3, 3), activation='relu', padding='same'),\n",
    "    layers.MaxPooling2D((2, 2)),\n",
    "\n",
    "    #flatten and wider dense layers\n",
    "    layers.Flatten(),\n",
    "    layers.Dense(512, activation='relu'),\n",
    "    layers.Dropout(0.5),\n",
    "    layers.Dense(3, activation='softmax')\n",
    "])\n",
    "\n",
    "#compile the model\n",
    "wider_model.compile(\n",
    "    optimizer='adam',\n",
    "    loss='sparse_categorical_crossentropy',\n",
    "    metrics=['accuracy']\n",
    ")\n",
    "\n",
    "#print model summary\n",
    "print(\"\\nWider CNN Architecture:\")\n",
    "wider_model.summary()"
   ]
  },
  {
   "cell_type": "code",
   "execution_count": null,
   "metadata": {
    "colab": {
     "base_uri": "https://localhost:8080/"
    },
    "executionInfo": {
     "elapsed": 189279,
     "status": "ok",
     "timestamp": 1746883340258,
     "user": {
      "displayName": "Keith M",
      "userId": "12033836580644727059"
     },
     "user_tz": -60
    },
    "id": "8RYhyPPauQvd",
    "outputId": "31d1457e-0bcf-4595-9017-bc778323f25f"
   },
   "outputs": [],
   "source": [
    "#train the wider model\n",
    "print(\"\\nTraining the wider model...\")\n",
    "start_time = time.time()\n",
    "\n",
    "wider_history = wider_model.fit(\n",
    "    train_ds,\n",
    "    validation_data=val_ds,\n",
    "    epochs=15,\n",
    "    callbacks=[early_stopping]\n",
    ")\n",
    "\n",
    "wider_training_time = time.time() - start_time\n",
    "print(f\"\\nWider model training time: {wider_training_time:.2f} seconds\")\n",
    "\n",
    "#evaluate on validation set\n",
    "wider_val_loss, wider_val_acc = wider_model.evaluate(val_ds)\n",
    "print(f\"Wider model validation accuracy: {wider_val_acc:.4f}\")"
   ]
  },
  {
   "cell_type": "markdown",
   "metadata": {
    "id": "92pgkR4M53sE"
   },
   "source": [
    "## Results"
   ]
  },
  {
   "cell_type": "code",
   "execution_count": null,
   "metadata": {
    "colab": {
     "base_uri": "https://localhost:8080/",
     "height": 363
    },
    "executionInfo": {
     "elapsed": 204,
     "status": "ok",
     "timestamp": 1746883340464,
     "user": {
      "displayName": "Keith M",
      "userId": "12033836580644727059"
     },
     "user_tz": -60
    },
    "id": "xbDp-la_zZ3P",
    "outputId": "a71d5bb0-4682-4e6c-97c3-be308a29d8ed"
   },
   "outputs": [],
   "source": [
    "#compare the three model architectures\n",
    "architecture_comparison = {\n",
    "    'Model': ['Baseline CNN', 'Deeper CNN', 'Wider CNN'],\n",
    "    'Validation Accuracy': [baseline_val_acc, deeper_val_acc, wider_val_acc],\n",
    "    'Training Time (s)': [baseline_training_time, deeper_training_time, wider_training_time]\n",
    "}\n",
    "\n",
    "#create a bar chart to compare accuracies\n",
    "plt.figure(figsize=(12, 5))\n",
    "plt.subplot(1, 2, 1)\n",
    "plt.bar(architecture_comparison['Model'], architecture_comparison['Validation Accuracy'])\n",
    "plt.title('Validation Accuracy by Architecture')\n",
    "plt.xlabel('Model Architecture')\n",
    "plt.ylabel('Validation Accuracy')\n",
    "plt.ylim(0, 1)\n",
    "\n",
    "#create a bar chart to compare training times\n",
    "plt.subplot(1, 2, 2)\n",
    "plt.bar(architecture_comparison['Model'], architecture_comparison['Training Time (s)'])\n",
    "plt.title('Training Time by Architecture')\n",
    "plt.xlabel('Model Architecture')\n",
    "plt.ylabel('Training Time (seconds)')\n",
    "\n",
    "plt.tight_layout()\n",
    "plt.show()\n",
    "\n",
    "#print the comparison as a formatted table\n",
    "print(\"\\nModel Architecture Comparison:\")\n",
    "for i in range(len(architecture_comparison['Model'])):\n",
    "    model = architecture_comparison['Model'][i]\n",
    "    acc = architecture_comparison['Validation Accuracy'][i]\n",
    "    time = architecture_comparison['Training Time (s)'][i]\n",
    "    print(f\"{model}: Accuracy = {acc:.4f}, Training Time = {time:.2f} seconds\")"
   ]
  },
  {
   "cell_type": "code",
   "execution_count": null,
   "metadata": {
    "colab": {
     "base_uri": "https://localhost:8080/"
    },
    "executionInfo": {
     "elapsed": 16045,
     "status": "ok",
     "timestamp": 1746883356512,
     "user": {
      "displayName": "Keith M",
      "userId": "12033836580644727059"
     },
     "user_tz": -60
    },
    "id": "BtDxG0pGzzVL",
    "outputId": "7a0b8266-4853-4f9a-9a2a-0ce5650410ed"
   },
   "outputs": [],
   "source": [
    "test_loss_base, test_acc_base = baseline_model.evaluate(test_ds)\n",
    "test_loss_deep, test_acc_deep = deeper_model.evaluate(test_ds)\n",
    "test_loss_wide, test_acc_wide = wider_model.evaluate(test_ds)\n",
    "\n",
    "print(\"Test accuracy for each model\")\n",
    "print(f\"Baseline Model: {test_acc_base}\")\n",
    "print(f\"Deeper Model: {test_acc_deep}\")\n",
    "print(f\"Wider Model: {test_acc_wide}\")"
   ]
  },
  {
   "cell_type": "code",
   "execution_count": null,
   "metadata": {
    "colab": {
     "base_uri": "https://localhost:8080/",
     "height": 392
    },
    "executionInfo": {
     "elapsed": 149,
     "status": "ok",
     "timestamp": 1746883356677,
     "user": {
      "displayName": "Keith M",
      "userId": "12033836580644727059"
     },
     "user_tz": -60
    },
    "id": "umoVZ06l2nWQ",
    "outputId": "d2eedf81-eb7b-4c8c-f0bf-e07c38ed2d2a"
   },
   "outputs": [],
   "source": [
    "models = ['Baseline Model', 'Deeper Model', 'Wider Model']\n",
    "test_acc = [test_acc_base, test_acc_deep, test_acc_wide]\n",
    "val_acc = [baseline_val_acc, deeper_val_acc, wider_val_acc]\n",
    "\n",
    "barWidth = 0.3\n",
    "#set bar positions\n",
    "r1 = np.arange(len(models))\n",
    "r2 = [x + barWidth for x in r1]\n",
    "\n",
    "#create the grouped bar chart\n",
    "plt.figure(figsize=(10, 6))\n",
    "plt.bar(r1, test_acc, width=barWidth, label='Test Accuracy', color='blue')\n",
    "plt.bar(r2, val_acc, width=barWidth, label='Validation Accuracy', color='orange')\n",
    "\n",
    "#add labels and title\n",
    "plt.xlabel('Models')\n",
    "plt.ylabel('Accuracy')\n",
    "plt.title('Test and Validation Accuracy Comparison')\n",
    "plt.xticks([r + barWidth/2 for r in range(len(models))], models)\n",
    "plt.ylim(0, 1.1)\n",
    "\n",
    "plt.legend()\n",
    "\n",
    "#add grid\n",
    "plt.grid(axis='y', linestyle='--', alpha=0.7)\n",
    "\n",
    "plt.tight_layout()\n",
    "plt.show()"
   ]
  },
  {
   "cell_type": "markdown",
   "metadata": {
    "id": "DANqoyT9wXcH"
   },
   "source": [
    "## Test on own images"
   ]
  },
  {
   "cell_type": "code",
   "execution_count": null,
   "metadata": {
    "colab": {
     "base_uri": "https://localhost:8080/",
     "height": 351
    },
    "executionInfo": {
     "elapsed": 1857322,
     "status": "ok",
     "timestamp": 1746885214001,
     "user": {
      "displayName": "Keith M",
      "userId": "12033836580644727059"
     },
     "user_tz": -60
    },
    "id": "YUBCeCluwbWF",
    "outputId": "1b3a8464-ef1f-41b2-d51a-36a4b930a8d6"
   },
   "outputs": [],
   "source": [
    "# Create the directory if it doesn't exist\n",
    "!mkdir -p /content/my_test_images\n",
    "\n",
    "# Upload images\n",
    "from google.colab import files\n",
    "uploaded = files.upload()\n",
    "\n",
    "# Save each file with its original name and extension\n",
    "for fn in uploaded.keys():\n",
    "   os.rename(fn, f'/content/my_test_images/{fn}')\n",
    "   print(f\"Saved {fn} to /content/my_test_images/{fn}\")\n",
    "\n",
    "# Verify the uploads worked\n",
    "image_files = [f for f in os.listdir('/content/my_test_images')\n",
    "              if f.lower().endswith(('.png', '.jpg', '.jpeg'))]\n",
    "print(f\"\\nFound {len(image_files)} image files in /content/my_test_images:\")\n",
    "for img in image_files:\n",
    "    print(f\"- {img}\")"
   ]
  },
  {
   "cell_type": "code",
   "execution_count": null,
   "metadata": {
    "colab": {
     "base_uri": "https://localhost:8080/"
    },
    "executionInfo": {
     "elapsed": 6,
     "status": "ok",
     "timestamp": 1746885214016,
     "user": {
      "displayName": "Keith M",
      "userId": "12033836580644727059"
     },
     "user_tz": -60
    },
    "id": "DkZJvMFp0ccv",
    "outputId": "9bbc98e6-f40d-4859-d1ee-2d260c33b7d3"
   },
   "outputs": [],
   "source": [
    "# Check if the folder exists\n",
    "folder_path = '/content/my_test_images'\n",
    "print(f\"Folder exists: {os.path.exists(folder_path)}\")\n",
    "\n",
    "# List contents of the parent directory to verify the folder name\n",
    "parent_dir = os.path.dirname(folder_path)\n",
    "print(f\"Contents of {parent_dir}:\")\n",
    "print(os.listdir(parent_dir))\n",
    "\n",
    "# If the folder exists, list its contents\n",
    "if os.path.exists(folder_path):\n",
    "    print(f\"\\nContents of {folder_path}:\")\n",
    "    files = os.listdir(folder_path)\n",
    "    print(files)\n",
    "\n",
    "    # Check file extensions\n",
    "    print(\"\\nFile extensions:\")\n",
    "    for file in files:\n",
    "        _, ext = os.path.splitext(file)\n",
    "        print(f\"{file}: {ext}\")"
   ]
  },
  {
   "cell_type": "code",
   "execution_count": null,
   "metadata": {
    "colab": {
     "base_uri": "https://localhost:8080/",
     "height": 1000,
     "output_embedded_package_id": "1-wdC-eHS6WH7zC0ijxgrchqW42zwxJ7t"
    },
    "executionInfo": {
     "elapsed": 6080,
     "status": "ok",
     "timestamp": 1746885220097,
     "user": {
      "displayName": "Keith M",
      "userId": "12033836580644727059"
     },
     "user_tz": -60
    },
    "id": "AfkY2mlpw2vG",
    "outputId": "98f17a6c-a7b9-4439-bb3c-83208e245740"
   },
   "outputs": [],
   "source": [
    "# Define variables\n",
    "models  = [baseline_model, deeper_model, wider_model]\n",
    "names = ['Baseline', 'Deeper', 'Wider']\n",
    "image_folder = '/content/my_test_images'  # Path to your test images folder\n",
    "class_names = ['paper', 'rock', 'scissors']  # Make sure these match your model's classes\n",
    "image_size = (224, 224)  # Size to resize images to\n",
    "\n",
    "# Get all image files\n",
    "image_files = [f for f in os.listdir(image_folder)\n",
    "              if f.lower().endswith(('.png', '.jpg', '.jpeg'))]\n",
    "\n",
    "print(f\"Found {len(image_files)} image files: {image_files}\")\n",
    "\n",
    "if not image_files:\n",
    "    print(f\"No images found in {image_folder}\")\n",
    "else:\n",
    "  for model, name in zip(models, names):\n",
    "      # Set up the plot\n",
    "      n_images = len(image_files)\n",
    "      fig = plt.figure(figsize=(15, 4 * n_images))\n",
    "\n",
    "      # Process each image\n",
    "      plt.title(f\"Model: {name}\")\n",
    "      for i, img_file in enumerate(image_files):\n",
    "          # Load and preprocess image\n",
    "          img_path = os.path.join(image_folder, img_file)\n",
    "          img = image.load_img(img_path, target_size=image_size)\n",
    "          img_array = image.img_to_array(img)\n",
    "          img_array = img_array / 255.0  # Normalize to [0,1]\n",
    "          img_array = np.expand_dims(img_array, axis=0)  # Add batch dimension\n",
    "\n",
    "          # Make prediction\n",
    "          predictions = model.predict(img_array, verbose=0)\n",
    "          predicted_class_idx = np.argmax(predictions[0])\n",
    "          predicted_class = class_names[predicted_class_idx]\n",
    "          confidence = predictions[0][predicted_class_idx] * 100\n",
    "\n",
    "          # Display image and prediction\n",
    "          plt.subplot(n_images, 2, i*2 + 1)\n",
    "          plt.imshow(img)\n",
    "          plt.title(f\"File: {img_file}\")\n",
    "          plt.axis('off')\n",
    "\n",
    "          # Display prediction details\n",
    "          plt.subplot(n_images, 2, i*2 + 2)\n",
    "          # Create bar chart of predictions\n",
    "          bars = plt.bar(class_names, predictions[0])\n",
    "          bars[predicted_class_idx].set_color('red')\n",
    "          plt.ylim([0, 1.0])\n",
    "          plt.title(f\"Prediction: {predicted_class} ({confidence:.1f}%)\")\n",
    "\n",
    "      plt.tight_layout()\n",
    "      plt.show()"
   ]
  },
  {
   "cell_type": "code",
   "execution_count": null,
   "metadata": {
    "colab": {
     "base_uri": "https://localhost:8080/",
     "height": 1000
    },
    "executionInfo": {
     "elapsed": 5758,
     "status": "ok",
     "timestamp": 1746885225898,
     "user": {
      "displayName": "Keith M",
      "userId": "12033836580644727059"
     },
     "user_tz": -60
    },
    "id": "dr3rDFSFN8LG",
    "outputId": "86496bc4-25d8-40a0-825c-e5b29f21ac7d"
   },
   "outputs": [],
   "source": [
    "# Create a data augmentation sequence\n",
    "data_augmentation = keras.Sequential([\n",
    "    # Flip the images horizontally\n",
    "    layers.RandomFlip(\"horizontal\"),\n",
    "\n",
    "    # Rotate the images by up to 20 degrees\n",
    "    layers.RandomRotation(0.2),\n",
    "\n",
    "    # Zoom in or out by up to 20%\n",
    "    layers.RandomZoom(0.2),\n",
    "\n",
    "    # Vary the brightness\n",
    "    layers.RandomBrightness(0.2),\n",
    "\n",
    "    # Vary the contrast\n",
    "    layers.RandomContrast(0.1)\n",
    "])\n",
    "\n",
    "# Visualize the augmentation effects on some training images\n",
    "plt.figure(figsize=(10, 10))\n",
    "for images, labels in train_ds.take(1):\n",
    "    # Display original images in first row\n",
    "    for i in range(min(9, len(images))):\n",
    "        ax = plt.subplot(3, 3, i + 1)\n",
    "        plt.imshow(images[i].numpy().astype(\"uint8\"))\n",
    "        plt.title(class_names[labels[i]])\n",
    "        plt.axis(\"off\")\n",
    "plt.tight_layout()\n",
    "plt.show()\n",
    "\n",
    "# Now show augmented versions\n",
    "plt.figure(figsize=(10, 10))\n",
    "for images, labels in train_ds.take(1):\n",
    "    # Apply data augmentation\n",
    "    augmented_images = data_augmentation(images, training=True)\n",
    "    # Display augmented images\n",
    "    for i in range(min(9, len(augmented_images))):\n",
    "        ax = plt.subplot(3, 3, i + 1)\n",
    "        plt.imshow(augmented_images[i].numpy().astype(\"uint8\"))\n",
    "        plt.title(class_names[labels[i]])\n",
    "        plt.axis(\"off\")\n",
    "plt.tight_layout()\n",
    "plt.show()"
   ]
  },
  {
   "cell_type": "code",
   "execution_count": null,
   "metadata": {
    "executionInfo": {
     "elapsed": 135,
     "status": "ok",
     "timestamp": 1746885226038,
     "user": {
      "displayName": "Keith M",
      "userId": "12033836580644727059"
     },
     "user_tz": -60
    },
    "id": "MSFUb_YOO70l"
   },
   "outputs": [],
   "source": [
    "# Method 1: Apply augmentation to the dataset\n",
    "def apply_augmentation(images, labels):\n",
    "    # Apply augmentation only during training\n",
    "    augmented_images = data_augmentation(images, training=True)\n",
    "    return augmented_images, labels\n",
    "\n",
    "# Create an augmented training dataset\n",
    "augmented_train_ds = train_ds.map(\n",
    "    apply_augmentation,\n",
    "    num_parallel_calls=tf.data.AUTOTUNE\n",
    ")\n",
    "\n",
    "# Apply same optimizations as your original dataset\n",
    "augmented_train_ds = augmented_train_ds.cache().shuffle(1000).prefetch(buffer_size=tf.data.AUTOTUNE)"
   ]
  },
  {
   "cell_type": "code",
   "execution_count": null,
   "metadata": {
    "colab": {
     "base_uri": "https://localhost:8080/"
    },
    "executionInfo": {
     "elapsed": 85016,
     "status": "ok",
     "timestamp": 1746885311055,
     "user": {
      "displayName": "Keith M",
      "userId": "12033836580644727059"
     },
     "user_tz": -60
    },
    "id": "FrOa3ZtpPw7g",
    "outputId": "05647431-d34d-4168-f5ad-6417cc8dc0a9"
   },
   "outputs": [],
   "source": [
    "baseline_history = baseline_model.fit(\n",
    "    augmented_train_ds,\n",
    "    validation_data=val_ds,\n",
    "    epochs=15,\n",
    "    callbacks=[early_stopping]\n",
    ")\n",
    "baseline_val_loss, baseline_val_acc = baseline_model.evaluate(val_ds)\n",
    "print(f\"Baseline model validation accuracy: {baseline_val_acc:.4f}\")\n",
    "\n",
    "baseline_test_loss, baseline_test_acc = baseline_model.evaluate(test_ds)\n",
    "print(f\"Baseline model test accuracy: {baseline_test_acc:.4f}\")"
   ]
  },
  {
   "cell_type": "code",
   "execution_count": null,
   "metadata": {
    "colab": {
     "base_uri": "https://localhost:8080/"
    },
    "executionInfo": {
     "elapsed": 79763,
     "status": "ok",
     "timestamp": 1746885390824,
     "user": {
      "displayName": "Keith M",
      "userId": "12033836580644727059"
     },
     "user_tz": -60
    },
    "id": "Xvr2q878Phtu",
    "outputId": "e0fc1e29-a757-474c-8b0f-f1459b2ee365"
   },
   "outputs": [],
   "source": [
    "deeper_history = deeper_model.fit(\n",
    "    augmented_train_ds,\n",
    "    validation_data=val_ds,\n",
    "    epochs=15,\n",
    "    callbacks=[early_stopping]\n",
    ")\n",
    "deeper_val_loss, deeper_val_acc = deeper_model.evaluate(val_ds)\n",
    "print(f\"Deeper model validation accuracy: {deeper_val_acc:.4f}\")\n",
    "\n",
    "deeper_test_loss, deeper_test_acc = deeper_model.evaluate(test_ds)\n",
    "print(f\"Deeper model test accuracy: {deeper_test_acc:.4f}\")"
   ]
  },
  {
   "cell_type": "code",
   "execution_count": null,
   "metadata": {
    "colab": {
     "base_uri": "https://localhost:8080/"
    },
    "executionInfo": {
     "elapsed": 184422,
     "status": "ok",
     "timestamp": 1746885575251,
     "user": {
      "displayName": "Keith M",
      "userId": "12033836580644727059"
     },
     "user_tz": -60
    },
    "id": "EcO-uhciPVE5",
    "outputId": "999fa360-e9e6-4e88-d7ad-c0353d0d799c"
   },
   "outputs": [],
   "source": [
    "wider_history = wider_model.fit(\n",
    "    augmented_train_ds,\n",
    "    validation_data=val_ds,\n",
    "    epochs=15,\n",
    "    callbacks=[early_stopping]\n",
    ")\n",
    "wider_val_loss, wider_val_acc = wider_model.evaluate(val_ds)\n",
    "print(f\"Wider model validation accuracy: {wider_val_acc:.4f}\")\n",
    "\n",
    "wider_test_loss, wider_test_acc = wider_model.evaluate(test_ds)\n",
    "print(f\"Wider model test accuracy: {wider_test_acc:.4f}\")"
   ]
  },
  {
   "cell_type": "code",
   "execution_count": null,
   "metadata": {
    "colab": {
     "base_uri": "https://localhost:8080/",
     "height": 392
    },
    "executionInfo": {
     "elapsed": 126,
     "status": "ok",
     "timestamp": 1746885575379,
     "user": {
      "displayName": "Keith M",
      "userId": "12033836580644727059"
     },
     "user_tz": -60
    },
    "id": "mGgGc4w3RH9y",
    "outputId": "00106469-f93d-42b1-dd0a-04f555f4fff1"
   },
   "outputs": [],
   "source": [
    "models = ['Baseline Model', 'Deeper Model', 'Wider Model']\n",
    "test_acc = [baseline_test_acc, deeper_test_acc, wider_test_acc]\n",
    "val_acc = [baseline_val_acc, deeper_val_acc, wider_val_acc]\n",
    "\n",
    "barWidth = 0.3\n",
    "#set bar positions\n",
    "r1 = np.arange(len(models))\n",
    "r2 = [x + barWidth for x in r1]\n",
    "\n",
    "#create the grouped bar chart\n",
    "plt.figure(figsize=(10, 6))\n",
    "plt.bar(r1, test_acc, width=barWidth, label='Test Accuracy', color='blue')\n",
    "plt.bar(r2, val_acc, width=barWidth, label='Validation Accuracy', color='orange')\n",
    "\n",
    "#add labels and title\n",
    "plt.xlabel('Models')\n",
    "plt.ylabel('Accuracy')\n",
    "plt.title('Test and Validation Accuracy Comparison')\n",
    "plt.xticks([r + barWidth/2 for r in range(len(models))], models)\n",
    "plt.ylim(0, 1.1)\n",
    "\n",
    "plt.legend()\n",
    "\n",
    "#add grid\n",
    "plt.grid(axis='y', linestyle='--', alpha=0.7)\n",
    "\n",
    "plt.tight_layout()\n",
    "plt.show()"
   ]
  },
  {
   "cell_type": "code",
   "execution_count": null,
   "metadata": {
    "colab": {
     "base_uri": "https://localhost:8080/",
     "height": 1000,
     "output_embedded_package_id": "1XN2REjr_qkildQ5qQ3tRqLPWQ3hNhmh2"
    },
    "executionInfo": {
     "elapsed": 5088,
     "status": "ok",
     "timestamp": 1746885580469,
     "user": {
      "displayName": "Keith M",
      "userId": "12033836580644727059"
     },
     "user_tz": -60
    },
    "id": "RFktfR7CTRs3",
    "outputId": "7408bb34-ea03-446e-d1a6-52f5f698b865"
   },
   "outputs": [],
   "source": [
    "# Define variables\n",
    "models  = [baseline_model, deeper_model, wider_model]\n",
    "names = ['Baseline', 'Deeper', 'Wider']\n",
    "image_folder = '/content/my_test_images'  # Path to your test images folder\n",
    "class_names = ['paper', 'rock', 'scissors']  # Make sure these match your model's classes\n",
    "image_size = (224, 224)  # Size to resize images to\n",
    "\n",
    "# Get all image files\n",
    "image_files = [f for f in os.listdir(image_folder)\n",
    "              if f.lower().endswith(('.png', '.jpg', '.jpeg'))]\n",
    "\n",
    "print(f\"Found {len(image_files)} image files: {image_files}\")\n",
    "\n",
    "if not image_files:\n",
    "    print(f\"No images found in {image_folder}\")\n",
    "else:\n",
    "  for model, name in zip(models, names):\n",
    "      # Set up the plot\n",
    "      n_images = len(image_files)\n",
    "      fig = plt.figure(figsize=(15, 4 * n_images))\n",
    "\n",
    "      # Process each image\n",
    "      plt.title(f\"Model: {name}\")\n",
    "      for i, img_file in enumerate(image_files):\n",
    "          # Load and preprocess image\n",
    "          img_path = os.path.join(image_folder, img_file)\n",
    "          img = image.load_img(img_path, target_size=image_size)\n",
    "          img_array = image.img_to_array(img)\n",
    "          img_array = img_array / 255.0  # Normalize to [0,1]\n",
    "          img_array = np.expand_dims(img_array, axis=0)  # Add batch dimension\n",
    "\n",
    "          # Make prediction\n",
    "          predictions = model.predict(img_array, verbose=0)\n",
    "          predicted_class_idx = np.argmax(predictions[0])\n",
    "          predicted_class = class_names[predicted_class_idx]\n",
    "          confidence = predictions[0][predicted_class_idx] * 100\n",
    "\n",
    "          # Display image and prediction\n",
    "          plt.subplot(n_images, 2, i*2 + 1)\n",
    "          plt.imshow(img)\n",
    "          plt.title(f\"File: {img_file}\")\n",
    "          plt.axis('off')\n",
    "\n",
    "          # Display prediction details\n",
    "          plt.subplot(n_images, 2, i*2 + 2)\n",
    "          # Create bar chart of predictions\n",
    "          bars = plt.bar(class_names, predictions[0])\n",
    "          bars[predicted_class_idx].set_color('red')\n",
    "          plt.ylim([0, 1.0])\n",
    "          plt.title(f\"Prediction: {predicted_class} ({confidence:.1f}%)\")\n",
    "\n",
    "      plt.tight_layout()\n",
    "      plt.show()"
   ]
  }
 ],
 "metadata": {
  "accelerator": "GPU",
  "colab": {
   "authorship_tag": "ABX9TyNzcimKfTgy+R+ixNlozDxE",
   "gpuType": "T4",
   "machine_shape": "hm",
   "provenance": []
  },
  "kernelspec": {
   "display_name": "Python 3",
   "name": "python3"
  },
  "language_info": {
   "name": "python"
  }
 },
 "nbformat": 4,
 "nbformat_minor": 0
}
