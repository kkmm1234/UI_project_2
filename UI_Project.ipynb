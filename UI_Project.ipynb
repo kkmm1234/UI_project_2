{
 "cells": [
  {
   "cell_type": "code",
   "execution_count": null,
   "metadata": {
    "executionInfo": {
     "elapsed": 5,
     "status": "ok",
     "timestamp": 1746907867098,
     "user": {
      "displayName": "Keith M",
      "userId": "12033836580644727059"
     },
     "user_tz": -60
    },
    "id": "H-x3giWwtaT4"
   },
   "outputs": [],
   "source": [
    "import os\n",
    "os.environ['TF_CPP_MIN_LOG_LEVEL'] = '3'  # Suppress tensorflow warnings\n",
    "from google.colab import drive, files\n",
    "import tensorflow as tf\n",
    "import numpy as np\n",
    "import pandas as pd\n",
    "import matplotlib.pyplot as plt\n",
    "import time\n",
    "from tensorflow.keras import layers\n",
    "from tensorflow.keras.preprocessing import image\n",
    "from PIL import Image\n",
    "\n",
    "# Set random seed using student ID as required in the assignment\n",
    "student_id = 404488\n",
    "np.random.seed(student_id)\n",
    "tf.random.set_seed(student_id)"
   ]
  },
  {
   "cell_type": "code",
   "execution_count": null,
   "metadata": {
    "colab": {
     "base_uri": "https://localhost:8080/"
    },
    "executionInfo": {
     "elapsed": 8,
     "status": "ok",
     "timestamp": 1746907867121,
     "user": {
      "displayName": "Keith M",
      "userId": "12033836580644727059"
     },
     "user_tz": -60
    },
    "id": "QgCqkGPFtiLK",
    "outputId": "fe4bbbb5-e975-4556-a780-2fbe2b6666c2"
   },
   "outputs": [],
   "source": [
    "print(tf.__version__)\n",
    "print(tf.config.list_physical_devices('GPU'))"
   ]
  },
  {
   "cell_type": "code",
   "execution_count": null,
   "metadata": {
    "colab": {
     "base_uri": "https://localhost:8080/"
    },
    "executionInfo": {
     "elapsed": 14668,
     "status": "ok",
     "timestamp": 1746907881790,
     "user": {
      "displayName": "Keith M",
      "userId": "12033836580644727059"
     },
     "user_tz": -60
    },
    "id": "pTX_uMgUtlT0",
    "outputId": "acbee5c3-6181-49e7-9c3e-e2749d2c1224"
   },
   "outputs": [],
   "source": [
    "# Mount Google Drive if running in Colab\n",
    "drive.flush_and_unmount\n",
    "drive.mount('/content/drive')\n",
    "!unzip -q '/content/drive/MyDrive/rock-paper-scissors.zip' -d '/content/drive/MyDrive/gesture_dataset'"
   ]
  },
  {
   "cell_type": "code",
   "execution_count": null,
   "metadata": {
    "executionInfo": {
     "elapsed": 3,
     "status": "ok",
     "timestamp": 1746907881798,
     "user": {
      "displayName": "Keith M",
      "userId": "12033836580644727059"
     },
     "user_tz": -60
    },
    "id": "o5bDFKTMtruk"
   },
   "outputs": [],
   "source": [
    "# Load images from properly formatted directories\n",
    "data_dir = '/content/drive/MyDrive/gesture_dataset'\n",
    "train_dir = os.path.join(data_dir, 'Rock-Paper-Scissors', 'train')\n",
    "test_dir = os.path.join(data_dir, 'Rock-Paper-Scissors', 'test')"
   ]
  },
  {
   "cell_type": "code",
   "execution_count": null,
   "metadata": {
    "colab": {
     "base_uri": "https://localhost:8080/"
    },
    "executionInfo": {
     "elapsed": 455,
     "status": "ok",
     "timestamp": 1746907882256,
     "user": {
      "displayName": "Keith M",
      "userId": "12033836580644727059"
     },
     "user_tz": -60
    },
    "id": "qBsUvXUctujq",
    "outputId": "470f070b-ef2a-41e1-8d9e-b61023b70b6c"
   },
   "outputs": [],
   "source": [
    "IMG_SIZE = (224, 224)\n",
    "batch_size = 32\n",
    "\n",
    "# Load the full training and test datasets\n",
    "train_ds_full = tf.keras.utils.image_dataset_from_directory(\n",
    "    train_dir,\n",
    "    image_size=IMG_SIZE,\n",
    "    batch_size=None,\n",
    "    shuffle=False,\n",
    "    seed=student_id\n",
    ")\n",
    "\n",
    "test_ds_full = tf.keras.utils.image_dataset_from_directory(\n",
    "    test_dir,\n",
    "    image_size=IMG_SIZE,\n",
    "    batch_size=None,\n",
    "    shuffle=False,\n",
    "    seed=student_id\n",
    ")\n",
    "\n",
    "# Get class names\n",
    "class_names = train_ds_full.class_names\n",
    "print(f\"Classes: {class_names}\")"
   ]
  },
  {
   "cell_type": "code",
   "execution_count": null,
   "metadata": {
    "colab": {
     "base_uri": "https://localhost:8080/"
    },
    "executionInfo": {
     "elapsed": 6911,
     "status": "ok",
     "timestamp": 1746907889184,
     "user": {
      "displayName": "Keith M",
      "userId": "12033836580644727059"
     },
     "user_tz": -60
    },
    "id": "Z_u1NRIptyjV",
    "outputId": "4984869c-7fcb-4559-ac4d-3dab6307e87a"
   },
   "outputs": [],
   "source": [
    "# Combine into one dataset and shuffle\n",
    "all_images = train_ds_full.concatenate(test_ds_full)\n",
    "all_images = all_images.shuffle(buffer_size=1000, seed=student_id)\n",
    "\n",
    "# Get total dataset size\n",
    "total_size = len(list(all_images))\n",
    "print(f\"Total dataset size: {total_size}\")"
   ]
  },
  {
   "cell_type": "code",
   "execution_count": null,
   "metadata": {
    "colab": {
     "base_uri": "https://localhost:8080/"
    },
    "executionInfo": {
     "elapsed": 9,
     "status": "ok",
     "timestamp": 1746907889196,
     "user": {
      "displayName": "Keith M",
      "userId": "12033836580644727059"
     },
     "user_tz": -60
    },
    "id": "VLL7MBK0t2Nf",
    "outputId": "eae85a0c-e3dd-4c06-d4a4-6c32e7a0e971"
   },
   "outputs": [],
   "source": [
    "train_size = int(0.7 * total_size)\n",
    "val_size = int(0.1 * total_size)\n",
    "test_size = total_size - train_size - val_size\n",
    "\n",
    "# Create the splits\n",
    "train_ds = all_images.take(train_size).batch(batch_size)\n",
    "remaining = all_images.skip(train_size)\n",
    "val_ds = remaining.take(val_size).batch(batch_size)\n",
    "test_ds = remaining.skip(val_size).batch(batch_size)\n",
    "\n",
    "# Print dataset sizes\n",
    "print(\"Data set sizes:\")\n",
    "print(f\"Training set: {tf.data.experimental.cardinality(train_ds)}\")\n",
    "print(f\"Validation set: {tf.data.experimental.cardinality(val_ds)}\")\n",
    "print(f\"Test set: {tf.data.experimental.cardinality(test_ds)}\")"
   ]
  },
  {
   "cell_type": "code",
   "execution_count": null,
   "metadata": {
    "executionInfo": {
     "elapsed": 12186,
     "status": "ok",
     "timestamp": 1746907901383,
     "user": {
      "displayName": "Keith M",
      "userId": "12033836580644727059"
     },
     "user_tz": -60
    },
    "id": "iteTPQgCt8Lx"
   },
   "outputs": [],
   "source": [
    "# Function to count examples per class\n",
    "def count_examples_per_class(dataset):\n",
    "    class_counts = [0] * len(class_names)\n",
    "    for _, labels in dataset:\n",
    "        for label in labels:\n",
    "            class_counts[label] += 1\n",
    "    return class_counts\n",
    "\n",
    "# Calculate class distribution in each split\n",
    "train_counts = count_examples_per_class(train_ds)\n",
    "val_counts = count_examples_per_class(val_ds)\n",
    "test_counts = count_examples_per_class(test_ds)"
   ]
  },
  {
   "cell_type": "code",
   "execution_count": null,
   "metadata": {
    "colab": {
     "base_uri": "https://localhost:8080/",
     "height": 330
    },
    "executionInfo": {
     "elapsed": 151,
     "status": "ok",
     "timestamp": 1746907901532,
     "user": {
      "displayName": "Keith M",
      "userId": "12033836580644727059"
     },
     "user_tz": -60
    },
    "id": "teXKqPFYt89q",
    "outputId": "5978bc79-0c09-486f-8822-28a4ccddf3a5"
   },
   "outputs": [],
   "source": [
    "# Plot class distribution\n",
    "plt.figure(figsize=(12, 6))\n",
    "plt.suptitle(\"Class Distribution Across Datasets\")\n",
    "x = np.arange(len(class_names))\n",
    "width = 0.25\n",
    "\n",
    "plt.bar(x - width, train_counts, width, label='Training')\n",
    "plt.bar(x, val_counts, width, label='Validation')\n",
    "plt.bar(x + width, test_counts, width, label='Test')\n",
    "\n",
    "plt.xlabel('Class', fontsize=14)\n",
    "plt.ylabel('Number of Images', fontsize=14)\n",
    "plt.xticks(x, class_names, fontsize=12)\n",
    "plt.legend(fontsize=12)\n",
    "plt.grid(axis='y', linestyle='--', alpha=0.7)\n",
    "plt.tight_layout(rect=[0, 0, 1, 0.96])\n",
    "plt.show()"
   ]
  },
  {
   "cell_type": "code",
   "execution_count": null,
   "metadata": {
    "colab": {
     "base_uri": "https://localhost:8080/",
     "height": 669
    },
    "executionInfo": {
     "elapsed": 2528,
     "status": "ok",
     "timestamp": 1746907904062,
     "user": {
      "displayName": "Keith M",
      "userId": "12033836580644727059"
     },
     "user_tz": -60
    },
    "id": "zI2DPLR-uAPp",
    "outputId": "4f506d3e-fb60-4d63-b85f-27efcf31c5cd"
   },
   "outputs": [],
   "source": [
    "# Visualize sample images\n",
    "plt.figure(figsize=(12, 12))\n",
    "plt.suptitle(\"Sample Images from Rock-Paper-Scissors Dataset\")\n",
    "\n",
    "for images, labels in train_ds.take(1):\n",
    "    for i in range(min(9, len(images))):\n",
    "        plt.subplot(3, 3, i + 1)\n",
    "        plt.imshow(images[i].numpy().astype(\"uint8\"))\n",
    "        plt.title(class_names[labels[i]])\n",
    "        plt.axis(\"off\")\n",
    "plt.tight_layout(rect=[0, 0, 1, 0.96])\n",
    "plt.show()\n"
   ]
  },
  {
   "cell_type": "code",
   "execution_count": null,
   "metadata": {
    "colab": {
     "base_uri": "https://localhost:8080/",
     "height": 226
    },
    "executionInfo": {
     "elapsed": 4232,
     "status": "ok",
     "timestamp": 1746907908300,
     "user": {
      "displayName": "Keith M",
      "userId": "12033836580644727059"
     },
     "user_tz": -60
    },
    "id": "f_GySoZcuFHJ",
    "outputId": "8585ea2a-d17b-41f7-b5b9-f30e9db6ba8b"
   },
   "outputs": [],
   "source": [
    "# Visualize RGB channel distribution\n",
    "plt.figure(figsize=(15, 5))\n",
    "plt.suptitle(\"RGB Channel Analysis of Sample Images\")\n",
    "\n",
    "for images, labels in train_ds.take(1):\n",
    "    for i in range(3):\n",
    "        img = images[i].numpy().astype(\"uint8\")\n",
    "        class_label = class_names[labels[i]]\n",
    "\n",
    "        plt.subplot(1, 3, i+1)\n",
    "\n",
    "        # Plot RGB histograms\n",
    "        for j, color in enumerate(['red', 'green', 'blue']):\n",
    "            histogram = plt.hist(img[:,:,j].flatten(), bins=256, alpha=0.5, color=color, label=color)\n",
    "\n",
    "        plt.title(f\"{class_label}\")\n",
    "        plt.xlabel(\"Pixel Value\")\n",
    "        plt.ylabel(\"Frequency\")\n",
    "        if i == 0:\n",
    "            plt.legend()\n",
    "        plt.ylim(0, 1500)\n",
    "\n",
    "plt.tight_layout(rect=[0, 0, 1, 0.95])\n",
    "plt.show()"
   ]
  },
  {
   "cell_type": "code",
   "execution_count": null,
   "metadata": {
    "colab": {
     "base_uri": "https://localhost:8080/",
     "height": 246
    },
    "executionInfo": {
     "elapsed": 58479,
     "status": "ok",
     "timestamp": 1746907966784,
     "user": {
      "displayName": "Keith M",
      "userId": "12033836580644727059"
     },
     "user_tz": -60
    },
    "id": "dLYiBtHhznqd",
    "outputId": "b36b9989-d120-4438-b60f-2aed37af9c22"
   },
   "outputs": [],
   "source": [
    "# Create the directory for test images\n",
    "!mkdir -p /content/my_test_images\n",
    "\n",
    "# Upload images\n",
    "from google.colab import files\n",
    "uploaded = files.upload()\n",
    "\n",
    "# Save each file\n",
    "for fn in uploaded.keys():\n",
    "   os.rename(fn, f'/content/my_test_images/{fn}')\n",
    "   print(f\"Saved {fn} to /content/my_test_images/{fn}\")\n"
   ]
  },
  {
   "cell_type": "code",
   "execution_count": null,
   "metadata": {
    "executionInfo": {
     "elapsed": 2,
     "status": "ok",
     "timestamp": 1746907966788,
     "user": {
      "displayName": "Keith M",
      "userId": "12033836580644727059"
     },
     "user_tz": -60
    },
    "id": "rnwzWgIauItI"
   },
   "outputs": [],
   "source": [
    "# Create callback for early stopping\n",
    "callback = tf.keras.callbacks.EarlyStopping(monitor='val_loss', patience=5, restore_best_weights=True)"
   ]
  },
  {
   "cell_type": "code",
   "execution_count": null,
   "metadata": {
    "colab": {
     "base_uri": "https://localhost:8080/",
     "height": 385
    },
    "executionInfo": {
     "elapsed": 66,
     "status": "ok",
     "timestamp": 1746907966871,
     "user": {
      "displayName": "Keith M",
      "userId": "12033836580644727059"
     },
     "user_tz": -60
    },
    "id": "MHe5KJeVuLhM",
    "outputId": "e71e9deb-b9de-41a6-8360-801dd84dcc55"
   },
   "outputs": [],
   "source": [
    "## Baseline model\n",
    "model = tf.keras.models.Sequential()\n",
    "model.add(tf.keras.Input(shape=(IMG_SIZE[0], IMG_SIZE[1], 3)))\n",
    "model.add(layers.Rescaling(1./255))\n",
    "model.add(layers.Conv2D(16, 3, padding='same', activation='relu'))\n",
    "model.add(layers.MaxPooling2D())\n",
    "model.add(layers.Conv2D(32, 3, padding='same', activation='relu'))\n",
    "model.add(layers.MaxPooling2D())\n",
    "model.add(layers.Flatten())\n",
    "model.add(layers.Dense(128, activation='relu'))\n",
    "model.add(layers.Dense(len(class_names), activation='softmax'))\n",
    "\n",
    "model.compile(optimizer=tf.keras.optimizers.Adam(),\n",
    "              loss=tf.keras.losses.SparseCategoricalCrossentropy(from_logits=False),\n",
    "              metrics=['accuracy'])\n",
    "\n",
    "model.summary()"
   ]
  },
  {
   "cell_type": "code",
   "execution_count": null,
   "metadata": {
    "colab": {
     "base_uri": "https://localhost:8080/"
    },
    "executionInfo": {
     "elapsed": 203114,
     "status": "ok",
     "timestamp": 1746908169988,
     "user": {
      "displayName": "Keith M",
      "userId": "12033836580644727059"
     },
     "user_tz": -60
    },
    "id": "ta8lEnSXuRm3",
    "outputId": "ab6e27ea-5278-40bd-f764-85a51a65a91a"
   },
   "outputs": [],
   "source": [
    "# Train the baseline model\n",
    "start_time = time.time()\n",
    "baseline_history = model.fit(train_ds, validation_data=val_ds, epochs=100, callbacks=[callback])\n",
    "baseline_training_time = time.time() - start_time\n",
    "print(f\"\\nBaseline model training time: {baseline_training_time:.2f} seconds\")\n",
    "\n",
    "# Evaluate on test set\n",
    "baseline_test_loss, baseline_test_acc = model.evaluate(test_ds)\n",
    "print(f\"Baseline model test accuracy: {baseline_test_acc:.4f}\")"
   ]
  },
  {
   "cell_type": "code",
   "execution_count": null,
   "metadata": {
    "colab": {
     "base_uri": "https://localhost:8080/",
     "height": 1000
    },
    "executionInfo": {
     "elapsed": 1890,
     "status": "ok",
     "timestamp": 1746908171892,
     "user": {
      "displayName": "Keith M",
      "userId": "12033836580644727059"
     },
     "user_tz": -60
    },
    "id": "UMhHe5hGzw8_",
    "outputId": "0d659a13-1d74-47c7-b452-763a54550ded"
   },
   "outputs": [],
   "source": [
    "# Check uploaded files\n",
    "image_files = [f for f in os.listdir('/content/my_test_images')\n",
    "              if f.lower().endswith(('.png', '.jpg', '.jpeg'))]\n",
    "\n",
    "for img_file in image_files:\n",
    "    # Load and preprocess image\n",
    "    img_path = os.path.join('/content/my_test_images', img_file)\n",
    "    img = image.load_img(img_path, target_size=IMG_SIZE)\n",
    "    img_array = image.img_to_array(img)\n",
    "    img_array = img_array / 255.0  # Normalize to [0,1]\n",
    "    img_array = np.expand_dims(img_array, axis=0)  # Add batch dimension\n",
    "\n",
    "    # Make prediction\n",
    "    predictions = model.predict(img_array, verbose=0)\n",
    "    predicted_class_idx = np.argmax(predictions[0])\n",
    "    predicted_class = class_names[predicted_class_idx]\n",
    "    confidence = predictions[0][predicted_class_idx] * 100\n",
    "\n",
    "    # Display image and prediction\n",
    "    plt.figure(figsize=(8, 6))\n",
    "    plt.subplot(1, 2, 1)\n",
    "    plt.imshow(img)\n",
    "    plt.title(f\"File: {img_file}\")\n",
    "    plt.axis('off')\n",
    "\n",
    "    # Display prediction details\n",
    "    plt.subplot(1, 2, 2)\n",
    "    # Create bar chart of predictions\n",
    "    bars = plt.bar(class_names, predictions[0])\n",
    "    bars[predicted_class_idx].set_color('red')\n",
    "    plt.ylim([0, 1.0])\n",
    "    plt.title(f\"Prediction: {predicted_class} ({confidence:.1f}%)\")\n",
    "    plt.xticks(rotation=45)\n",
    "\n",
    "    plt.tight_layout()\n",
    "    plt.show()"
   ]
  },
  {
   "cell_type": "code",
   "execution_count": null,
   "metadata": {
    "colab": {
     "base_uri": "https://localhost:8080/",
     "height": 481
    },
    "executionInfo": {
     "elapsed": 38,
     "status": "ok",
     "timestamp": 1746908171954,
     "user": {
      "displayName": "Keith M",
      "userId": "12033836580644727059"
     },
     "user_tz": -60
    },
    "id": "Jq__86jpuXXQ",
    "outputId": "6286f98c-e918-48d4-bbbe-76632f9d6d14"
   },
   "outputs": [],
   "source": [
    "# Define data augmentation layers\n",
    "data_augmentation_layers = tf.keras.Sequential([\n",
    "    layers.RandomFlip(\"horizontal\"),\n",
    "    layers.RandomRotation(0.1),\n",
    "])\n",
    "\n",
    "model = tf.keras.models.Sequential()\n",
    "model.add(tf.keras.Input(shape=(IMG_SIZE[0], IMG_SIZE[1], 3)))\n",
    "model.add(data_augmentation_layers)\n",
    "model.add(layers.Rescaling(1./255))\n",
    "model.add(layers.Conv2D(16, 3, padding='same', activation='relu'))\n",
    "model.add(layers.MaxPooling2D())\n",
    "model.add(layers.Conv2D(32, 3, padding='same', activation='relu'))\n",
    "model.add(layers.MaxPooling2D())\n",
    "model.add(layers.Conv2D(64, 3, padding='same', activation='relu'))\n",
    "model.add(layers.MaxPooling2D())\n",
    "model.add(layers.Flatten())\n",
    "model.add(layers.Dense(128, activation='relu'))\n",
    "model.add(layers.Dense(len(class_names), activation='softmax'))\n",
    "\n",
    "model.compile(optimizer=tf.keras.optimizers.Adam(),\n",
    "              loss=tf.keras.losses.SparseCategoricalCrossentropy(from_logits=False),\n",
    "              metrics=['accuracy'])\n",
    "\n",
    "model.summary()"
   ]
  },
  {
   "cell_type": "code",
   "execution_count": null,
   "metadata": {
    "colab": {
     "base_uri": "https://localhost:8080/"
    },
    "executionInfo": {
     "elapsed": 217662,
     "status": "ok",
     "timestamp": 1746908389618,
     "user": {
      "displayName": "Keith M",
      "userId": "12033836580644727059"
     },
     "user_tz": -60
    },
    "id": "YE7GaDd-uYX3",
    "outputId": "48441a1a-7b99-4130-882b-b1496a8741a1"
   },
   "outputs": [],
   "source": [
    "# Train the deeper model\n",
    "start_time = time.time()\n",
    "deeper_history = model.fit(train_ds, validation_data=val_ds, epochs=100, callbacks=[callback])\n",
    "deeper_training_time = time.time() - start_time\n",
    "print(f\"\\nDeeper model training time: {deeper_training_time:.2f} seconds\")\n",
    "\n",
    "# Evaluate on test set\n",
    "deeper_test_loss, deeper_test_acc = model.evaluate(test_ds)\n",
    "print(f\"Deeper model test accuracy: {deeper_test_acc:.4f}\")"
   ]
  },
  {
   "cell_type": "code",
   "execution_count": null,
   "metadata": {
    "colab": {
     "base_uri": "https://localhost:8080/",
     "height": 1000
    },
    "executionInfo": {
     "elapsed": 1680,
     "status": "ok",
     "timestamp": 1746908391300,
     "user": {
      "displayName": "Keith M",
      "userId": "12033836580644727059"
     },
     "user_tz": -60
    },
    "id": "VapMgy-K0ekB",
    "outputId": "9818ad85-fca5-4cf4-ab65-8f9308413fbf"
   },
   "outputs": [],
   "source": [
    "# Check uploaded files\n",
    "image_files = [f for f in os.listdir('/content/my_test_images')\n",
    "              if f.lower().endswith(('.png', '.jpg', '.jpeg'))]\n",
    "\n",
    "for img_file in image_files:\n",
    "    # Load and preprocess image\n",
    "    img_path = os.path.join('/content/my_test_images', img_file)\n",
    "    img = image.load_img(img_path, target_size=IMG_SIZE)\n",
    "    img_array = image.img_to_array(img)\n",
    "    img_array = img_array / 255.0  # Normalize to [0,1]\n",
    "    img_array = np.expand_dims(img_array, axis=0)  # Add batch dimension\n",
    "\n",
    "    # Make prediction\n",
    "    predictions = model.predict(img_array, verbose=0)\n",
    "    predicted_class_idx = np.argmax(predictions[0])\n",
    "    predicted_class = class_names[predicted_class_idx]\n",
    "    confidence = predictions[0][predicted_class_idx] * 100\n",
    "\n",
    "    # Display image and prediction\n",
    "    plt.figure(figsize=(8, 6))\n",
    "    plt.subplot(1, 2, 1)\n",
    "    plt.imshow(img)\n",
    "    plt.title(f\"File: {img_file}\")\n",
    "    plt.axis('off')\n",
    "\n",
    "    # Display prediction details\n",
    "    plt.subplot(1, 2, 2)\n",
    "    # Create bar chart of predictions\n",
    "    bars = plt.bar(class_names, predictions[0])\n",
    "    bars[predicted_class_idx].set_color('red')\n",
    "    plt.ylim([0, 1.0])\n",
    "    plt.title(f\"Prediction: {predicted_class} ({confidence:.1f}%)\")\n",
    "    plt.xticks(rotation=45)\n",
    "\n",
    "    plt.tight_layout()\n",
    "    plt.show()"
   ]
  },
  {
   "cell_type": "code",
   "execution_count": null,
   "metadata": {
    "colab": {
     "base_uri": "https://localhost:8080/",
     "height": 513
    },
    "executionInfo": {
     "elapsed": 26,
     "status": "ok",
     "timestamp": 1746908391347,
     "user": {
      "displayName": "Keith M",
      "userId": "12033836580644727059"
     },
     "user_tz": -60
    },
    "id": "xhZUJMnfueOE",
    "outputId": "def7b2a0-5561-4e13-9472-1336d61525f7"
   },
   "outputs": [],
   "source": [
    "# Wider model with data augmentation and dropout\n",
    "model = tf.keras.models.Sequential()\n",
    "model.add(tf.keras.Input(shape=(IMG_SIZE[0], IMG_SIZE[1], 3)))\n",
    "model.add(data_augmentation_layers)\n",
    "model.add(layers.Rescaling(1./255))\n",
    "model.add(layers.Conv2D(32, 3, padding='same', activation='relu'))\n",
    "model.add(layers.MaxPooling2D())\n",
    "model.add(layers.Dropout(0.2))\n",
    "model.add(layers.Conv2D(64, 3, padding='same', activation='relu'))\n",
    "model.add(layers.MaxPooling2D())\n",
    "model.add(layers.Dropout(0.2))\n",
    "model.add(layers.Flatten())\n",
    "model.add(layers.Dense(256, activation='relu'))\n",
    "model.add(layers.Dropout(0.5))\n",
    "model.add(layers.Dense(len(class_names), activation='softmax'))\n",
    "\n",
    "model.compile(optimizer=tf.keras.optimizers.Adam(),\n",
    "              loss=tf.keras.losses.SparseCategoricalCrossentropy(from_logits=False),\n",
    "              metrics=['accuracy'])\n",
    "\n",
    "model.summary()"
   ]
  },
  {
   "cell_type": "code",
   "execution_count": null,
   "metadata": {
    "colab": {
     "base_uri": "https://localhost:8080/"
    },
    "executionInfo": {
     "elapsed": 279361,
     "status": "ok",
     "timestamp": 1746908670710,
     "user": {
      "displayName": "Keith M",
      "userId": "12033836580644727059"
     },
     "user_tz": -60
    },
    "id": "3Q7Gm3BsuflV",
    "outputId": "e498a281-41a0-4d41-8ad9-78e567c3eee1"
   },
   "outputs": [],
   "source": [
    "# Train the wider model\n",
    "start_time = time.time()\n",
    "wider_history = model.fit(train_ds, validation_data=val_ds, epochs=100, callbacks=[callback])\n",
    "wider_training_time = time.time() - start_time\n",
    "print(f\"\\nWider model training time: {wider_training_time:.2f} seconds\")\n",
    "\n",
    "# Evaluate on test set\n",
    "wider_test_loss, wider_test_acc = model.evaluate(test_ds)\n",
    "print(f\"Wider model test accuracy: {wider_test_acc:.4f}\")"
   ]
  },
  {
   "cell_type": "code",
   "execution_count": null,
   "metadata": {
    "colab": {
     "base_uri": "https://localhost:8080/",
     "height": 1000
    },
    "executionInfo": {
     "elapsed": 2106,
     "status": "ok",
     "timestamp": 1746908672818,
     "user": {
      "displayName": "Keith M",
      "userId": "12033836580644727059"
     },
     "user_tz": -60
    },
    "id": "DMTeQLFw0iyY",
    "outputId": "9d9c47ba-1f48-449d-9e8d-be3b559f6f63"
   },
   "outputs": [],
   "source": [
    "# Check uploaded files\n",
    "image_files = [f for f in os.listdir('/content/my_test_images')\n",
    "              if f.lower().endswith(('.png', '.jpg', '.jpeg'))]\n",
    "\n",
    "for img_file in image_files:\n",
    "    # Load and preprocess image\n",
    "    img_path = os.path.join('/content/my_test_images', img_file)\n",
    "    img = image.load_img(img_path, target_size=IMG_SIZE)\n",
    "    img_array = image.img_to_array(img)\n",
    "    img_array = img_array / 255.0  # Normalize to [0,1]\n",
    "    img_array = np.expand_dims(img_array, axis=0)  # Add batch dimension\n",
    "\n",
    "    # Make prediction\n",
    "    predictions = model.predict(img_array, verbose=0)\n",
    "    predicted_class_idx = np.argmax(predictions[0])\n",
    "    predicted_class = class_names[predicted_class_idx]\n",
    "    confidence = predictions[0][predicted_class_idx] * 100\n",
    "\n",
    "    # Display image and prediction\n",
    "    plt.figure(figsize=(8, 6))\n",
    "    plt.subplot(1, 2, 1)\n",
    "    plt.imshow(img)\n",
    "    plt.title(f\"File: {img_file}\")\n",
    "    plt.axis('off')\n",
    "\n",
    "    # Display prediction details\n",
    "    plt.subplot(1, 2, 2)\n",
    "    # Create bar chart of predictions\n",
    "    bars = plt.bar(class_names, predictions[0])\n",
    "    bars[predicted_class_idx].set_color('red')\n",
    "    plt.ylim([0, 1.0])\n",
    "    plt.title(f\"Prediction: {predicted_class} ({confidence:.1f}%)\")\n",
    "    plt.xticks(rotation=45)\n",
    "\n",
    "    plt.tight_layout()\n",
    "    plt.show()"
   ]
  },
  {
   "cell_type": "code",
   "execution_count": null,
   "metadata": {
    "executionInfo": {
     "elapsed": 9,
     "status": "ok",
     "timestamp": 1746908672826,
     "user": {
      "displayName": "Keith M",
      "userId": "12033836580644727059"
     },
     "user_tz": -60
    },
    "id": "OrPd1xcCujRL"
   },
   "outputs": [],
   "source": [
    "# Compare the three model architectures\n",
    "architecture_comparison = {\n",
    "    'Model': ['Baseline CNN', 'Deeper CNN', 'Wider CNN'],\n",
    "    'Validation Accuracy': [baseline_history.history['val_accuracy'][-1],\n",
    "                           deeper_history.history['val_accuracy'][-1],\n",
    "                           wider_history.history['val_accuracy'][-1]],\n",
    "    'Test Accuracy': [baseline_test_acc, deeper_test_acc, wider_test_acc],\n",
    "    'Training Time (s)': [baseline_training_time, deeper_training_time, wider_training_time]\n",
    "}"
   ]
  },
  {
   "cell_type": "code",
   "execution_count": null,
   "metadata": {
    "colab": {
     "base_uri": "https://localhost:8080/",
     "height": 276
    },
    "executionInfo": {
     "elapsed": 116,
     "status": "ok",
     "timestamp": 1746908672944,
     "user": {
      "displayName": "Keith M",
      "userId": "12033836580644727059"
     },
     "user_tz": -60
    },
    "id": "uStWYgTOul2s",
    "outputId": "05555bb1-1cf0-428b-f1b6-1036f3d00eba"
   },
   "outputs": [],
   "source": [
    "# Create a bar chart to compare accuracies\n",
    "plt.figure(figsize=(12, 5))\n",
    "plt.subplot(1, 2, 1)\n",
    "plt.bar(architecture_comparison['Model'], architecture_comparison['Test Accuracy'])\n",
    "plt.title('Test Accuracy by Architecture')\n",
    "plt.xlabel('Model Architecture')\n",
    "plt.ylabel('Test Accuracy')\n",
    "plt.ylim(0, 1)\n",
    "\n",
    "# Create a bar chart to compare training times\n",
    "plt.subplot(1, 2, 2)\n",
    "plt.bar(architecture_comparison['Model'], architecture_comparison['Training Time (s)'])\n",
    "plt.title('Training Time by Architecture')\n",
    "plt.xlabel('Model Architecture')\n",
    "plt.ylabel('Training Time (seconds)')\n",
    "\n",
    "plt.tight_layout()\n",
    "plt.show()"
   ]
  },
  {
   "cell_type": "code",
   "execution_count": null,
   "metadata": {
    "colab": {
     "base_uri": "https://localhost:8080/"
    },
    "executionInfo": {
     "elapsed": 10,
     "status": "ok",
     "timestamp": 1746908672968,
     "user": {
      "displayName": "Keith M",
      "userId": "12033836580644727059"
     },
     "user_tz": -60
    },
    "id": "aygw8d_FurBM",
    "outputId": "34df2e8e-c364-461e-8dc2-e966290b890d"
   },
   "outputs": [],
   "source": [
    "# Print the comparison as a formatted table\n",
    "print(\"\\nModel Architecture Comparison:\")\n",
    "for i in range(len(architecture_comparison['Model'])):\n",
    "    model_name = architecture_comparison['Model'][i]\n",
    "    val_acc = architecture_comparison['Validation Accuracy'][i]\n",
    "    test_acc = architecture_comparison['Test Accuracy'][i]\n",
    "    time = architecture_comparison['Training Time (s)'][i]\n",
    "    print(f\"{model_name}: Val Accuracy = {val_acc:.4f}, Test Accuracy = {test_acc:.4f}, Training Time = {time:.2f} seconds\")"
   ]
  },
  {
   "cell_type": "code",
   "execution_count": null,
   "metadata": {
    "executionInfo": {
     "elapsed": 3,
     "status": "ok",
     "timestamp": 1746908946266,
     "user": {
      "displayName": "Keith M",
      "userId": "12033836580644727059"
     },
     "user_tz": -60
    },
    "id": "fVQ0rEex4TGR"
   },
   "outputs": [],
   "source": [
    "def create_wider_model():\n",
    "    model = tf.keras.models.Sequential()\n",
    "    model.add(tf.keras.Input(shape=(IMG_SIZE[0], IMG_SIZE[1], 3)))\n",
    "    model.add(data_augmentation_layers)\n",
    "    model.add(layers.Rescaling(1./255))\n",
    "    model.add(layers.Conv2D(32, 3, padding='same', activation='relu'))\n",
    "    model.add(layers.MaxPooling2D())\n",
    "    model.add(layers.Dropout(0.2))\n",
    "    model.add(layers.Conv2D(64, 3, padding='same', activation='relu'))\n",
    "    model.add(layers.MaxPooling2D())\n",
    "    model.add(layers.Dropout(0.2))\n",
    "    model.add(layers.Flatten())\n",
    "    model.add(layers.Dense(256, activation='relu'))\n",
    "    model.add(layers.Dropout(0.5))\n",
    "    model.add(layers.Dense(len(class_names), activation='softmax'))\n",
    "    return model"
   ]
  },
  {
   "cell_type": "code",
   "execution_count": null,
   "metadata": {
    "colab": {
     "base_uri": "https://localhost:8080/",
     "height": 1000
    },
    "executionInfo": {
     "elapsed": 521430,
     "status": "ok",
     "timestamp": 1746909503494,
     "user": {
      "displayName": "Keith M",
      "userId": "12033836580644727059"
     },
     "user_tz": -60
    },
    "id": "yjCfCN4P4VO2",
    "outputId": "2d27bfd3-7bdd-44ab-c93b-aff29be2bb48"
   },
   "outputs": [],
   "source": [
    "# Learning rates to test\n",
    "learning_rates = [0.01, 0.001, 0.0001]\n",
    "learning_rate_histories = []\n",
    "learning_rate_accuracies = []\n",
    "learning_rate_times = []\n",
    "\n",
    "print(\"\\n===== Testing Different Learning Rates on Wider Model =====\")\n",
    "\n",
    "for lr in learning_rates:\n",
    "    print(f\"\\nTraining with learning rate: {lr}\")\n",
    "\n",
    "    # Create new model instance\n",
    "    model = create_wider_model()\n",
    "\n",
    "    # Compile with current learning rate\n",
    "    model.compile(optimizer=tf.keras.optimizers.Adam(learning_rate=lr),\n",
    "                  loss=tf.keras.losses.SparseCategoricalCrossentropy(from_logits=False),\n",
    "                  metrics=['accuracy'])\n",
    "\n",
    "    # Short summary (only for the first learning rate)\n",
    "    if lr == learning_rates[0]:\n",
    "        model.summary()\n",
    "\n",
    "    # Train the model\n",
    "    history = model.fit(\n",
    "        train_ds,\n",
    "        validation_data=val_ds,\n",
    "        epochs=30,  # Reduced to save time while testing multiple learning rates\n",
    "        callbacks=[callback],\n",
    "        verbose=1\n",
    "    )\n",
    "\n",
    "    # Evaluate on test set\n",
    "    test_loss, test_acc = model.evaluate(test_ds)\n",
    "    print(f\"Test accuracy: {test_acc:.4f}\")\n",
    "\n",
    "    # Store results\n",
    "    learning_rate_histories.append(history)\n",
    "    learning_rate_accuracies.append(test_acc)\n",
    "\n",
    "# Find the best learning rate\n",
    "best_lr_index = np.argmax(learning_rate_accuracies)\n",
    "best_lr = learning_rates[best_lr_index]\n",
    "best_lr_accuracy = learning_rate_accuracies[best_lr_index]"
   ]
  },
  {
   "cell_type": "code",
   "execution_count": null,
   "metadata": {
    "colab": {
     "base_uri": "https://localhost:8080/",
     "height": 364
    },
    "executionInfo": {
     "elapsed": 257,
     "status": "ok",
     "timestamp": 1746909769993,
     "user": {
      "displayName": "Keith M",
      "userId": "12033836580644727059"
     },
     "user_tz": -60
    },
    "id": "_CN3TDo94mO2",
    "outputId": "440ee179-e5f5-45df-b393-3758c536b161"
   },
   "outputs": [],
   "source": [
    "print(f\"\\nBest learning rate: {best_lr} with test accuracy: {best_lr_accuracy:.4f}\")\n",
    "\n",
    "# Visualize learning rate performance\n",
    "plt.figure(figsize=(12, 6))\n",
    "plt.subplot(1, 2, 1)\n",
    "plt.bar([str(lr) for lr in learning_rates], learning_rate_accuracies)\n",
    "plt.title('Test Accuracy by Learning Rate')\n",
    "plt.xlabel('Learning Rate')\n",
    "plt.ylabel('Test Accuracy')\n",
    "plt.ylim(0, 1)\n",
    "\n",
    "plt.subplot(1, 2, 2)\n",
    "for i, lr in enumerate(learning_rates):\n",
    "    plt.plot(learning_rate_histories[i].history['val_accuracy'], label=f'LR: {lr}')\n",
    "plt.title('Validation Accuracy During Training')\n",
    "plt.xlabel('Epoch')\n",
    "plt.ylabel('Validation Accuracy')\n",
    "plt.legend()\n",
    "plt.tight_layout()\n",
    "plt.show()"
   ]
  },
  {
   "cell_type": "code",
   "execution_count": null,
   "metadata": {
    "colab": {
     "base_uri": "https://localhost:8080/"
    },
    "executionInfo": {
     "elapsed": 488280,
     "status": "ok",
     "timestamp": 1746910309466,
     "user": {
      "displayName": "Keith M",
      "userId": "12033836580644727059"
     },
     "user_tz": -60
    },
    "id": "YbNHp7644nI1",
    "outputId": "2f748cfb-72ab-4890-9939-e066ce107496"
   },
   "outputs": [],
   "source": [
    "# Now train the wider model with the best learning rate for the full number of epochs\n",
    "print(f\"\\nTraining the wider model with the best learning rate: {best_lr}\")\n",
    "model = create_wider_model()\n",
    "model.compile(optimizer=tf.keras.optimizers.Adam(learning_rate=best_lr),\n",
    "              loss=tf.keras.losses.SparseCategoricalCrossentropy(from_logits=False),\n",
    "              metrics=['accuracy'])\n",
    "\n",
    "# Train the wider model\n",
    "wider_history = model.fit(train_ds, validation_data=val_ds, epochs=100, callbacks=[callback])\n",
    "\n",
    "# Evaluate on test set\n",
    "wider_test_loss, wider_test_acc = model.evaluate(test_ds)\n",
    "print(f\"Wider model test accuracy: {wider_test_acc:.4f}\")\n"
   ]
  },
  {
   "cell_type": "code",
   "execution_count": null,
   "metadata": {
    "colab": {
     "base_uri": "https://localhost:8080/",
     "height": 1000
    },
    "executionInfo": {
     "elapsed": 1803,
     "status": "ok",
     "timestamp": 1746910397463,
     "user": {
      "displayName": "Keith M",
      "userId": "12033836580644727059"
     },
     "user_tz": -60
    },
    "id": "CdeGEzBN4vid",
    "outputId": "9b8d3090-91c6-4b76-bbde-238424eacf8a"
   },
   "outputs": [],
   "source": [
    "# Check uploaded files\n",
    "image_files = [f for f in os.listdir('/content/my_test_images')\n",
    "              if f.lower().endswith(('.png', '.jpg', '.jpeg'))]\n",
    "\n",
    "for img_file in image_files:\n",
    "    # Load and preprocess image\n",
    "    img_path = os.path.join('/content/my_test_images', img_file)\n",
    "    img = image.load_img(img_path, target_size=IMG_SIZE)\n",
    "    img_array = image.img_to_array(img)\n",
    "    img_array = img_array / 255.0  # Normalize to [0,1]\n",
    "    img_array = np.expand_dims(img_array, axis=0)  # Add batch dimension\n",
    "\n",
    "    # Make prediction\n",
    "    predictions = model.predict(img_array, verbose=0)\n",
    "    predicted_class_idx = np.argmax(predictions[0])\n",
    "    predicted_class = class_names[predicted_class_idx]\n",
    "    confidence = predictions[0][predicted_class_idx] * 100\n",
    "\n",
    "    # Display image and prediction\n",
    "    plt.figure(figsize=(8, 6))\n",
    "    plt.subplot(1, 2, 1)\n",
    "    plt.imshow(img)\n",
    "    plt.title(f\"File: {img_file}\")\n",
    "    plt.axis('off')\n",
    "\n",
    "    # Display prediction details\n",
    "    plt.subplot(1, 2, 2)\n",
    "    # Create bar chart of predictions\n",
    "    bars = plt.bar(class_names, predictions[0])\n",
    "    bars[predicted_class_idx].set_color('red')\n",
    "    plt.ylim([0, 1.0])\n",
    "    plt.title(f\"Prediction: {predicted_class} ({confidence:.1f}%)\")\n",
    "    plt.xticks(rotation=45)\n",
    "\n",
    "    plt.tight_layout()\n",
    "    plt.show()"
   ]
  }
 ],
 "metadata": {
  "accelerator": "GPU",
  "colab": {
   "authorship_tag": "ABX9TyMbITigAPrNnqGLJMUrYufv",
   "gpuType": "T4",
   "machine_shape": "hm",
   "provenance": []
  },
  "kernelspec": {
   "display_name": "Python 3",
   "name": "python3"
  },
  "language_info": {
   "name": "python"
  }
 },
 "nbformat": 4,
 "nbformat_minor": 0
}
